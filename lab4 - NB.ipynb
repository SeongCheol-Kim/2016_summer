{
 "cells": [
  {
   "cell_type": "code",
   "execution_count": 23,
   "metadata": {
    "collapsed": true
   },
   "outputs": [],
   "source": [
    "import numpy as np\n",
    "import tensorflow as tf\n",
    "from sklearn import preprocessing as p\n",
    "import pandas as pd"
   ]
  },
  {
   "cell_type": "code",
   "execution_count": 29,
   "metadata": {
    "collapsed": false
   },
   "outputs": [
    {
     "data": {
      "text/plain": [
       "class          object\n",
       "age            object\n",
       "menopause      object\n",
       "tumor-size     object\n",
       "inv-nodes      object\n",
       "node-caps      object\n",
       "deg-malig       int64\n",
       "breast         object\n",
       "breast-quad    object\n",
       "irradiat       object\n",
       "dtype: object"
      ]
     },
     "execution_count": 29,
     "metadata": {},
     "output_type": "execute_result"
    }
   ],
   "source": [
    "data_source = \"https://archive.ics.uci.edu/ml/machine-learning-databases/restricted/breast-cancer/breast-cancer.data\"\n",
    "\n",
    "names = [\"class\", \"age\", \"menopause\", \"tumor-size\", \"inv-nodes\", \"node-caps\", \"deg-malig\", \"breast\", \"breast-quad\", \"irradiat\"]\n",
    "\n",
    "df = pd.read_csv(data_source, names=names)\n",
    "df.dtypes"
   ]
  },
  {
   "cell_type": "code",
   "execution_count": 30,
   "metadata": {
    "collapsed": false
   },
   "outputs": [
    {
     "data": {
      "text/html": [
       "<div>\n",
       "<table border=\"1\" class=\"dataframe\">\n",
       "  <thead>\n",
       "    <tr style=\"text-align: right;\">\n",
       "      <th></th>\n",
       "      <th>class</th>\n",
       "      <th>age</th>\n",
       "      <th>menopause</th>\n",
       "      <th>tumor-size</th>\n",
       "      <th>inv-nodes</th>\n",
       "      <th>node-caps</th>\n",
       "      <th>deg-malig</th>\n",
       "      <th>breast</th>\n",
       "      <th>breast-quad</th>\n",
       "      <th>irradiat</th>\n",
       "    </tr>\n",
       "  </thead>\n",
       "  <tbody>\n",
       "    <tr>\n",
       "      <th>0</th>\n",
       "      <td>no-recurrence-events</td>\n",
       "      <td>30-39</td>\n",
       "      <td>premeno</td>\n",
       "      <td>30-34</td>\n",
       "      <td>0-2</td>\n",
       "      <td>no</td>\n",
       "      <td>3</td>\n",
       "      <td>left</td>\n",
       "      <td>left_low</td>\n",
       "      <td>no</td>\n",
       "    </tr>\n",
       "    <tr>\n",
       "      <th>1</th>\n",
       "      <td>no-recurrence-events</td>\n",
       "      <td>40-49</td>\n",
       "      <td>premeno</td>\n",
       "      <td>20-24</td>\n",
       "      <td>0-2</td>\n",
       "      <td>no</td>\n",
       "      <td>2</td>\n",
       "      <td>right</td>\n",
       "      <td>right_up</td>\n",
       "      <td>no</td>\n",
       "    </tr>\n",
       "    <tr>\n",
       "      <th>2</th>\n",
       "      <td>no-recurrence-events</td>\n",
       "      <td>40-49</td>\n",
       "      <td>premeno</td>\n",
       "      <td>20-24</td>\n",
       "      <td>0-2</td>\n",
       "      <td>no</td>\n",
       "      <td>2</td>\n",
       "      <td>left</td>\n",
       "      <td>left_low</td>\n",
       "      <td>no</td>\n",
       "    </tr>\n",
       "    <tr>\n",
       "      <th>3</th>\n",
       "      <td>no-recurrence-events</td>\n",
       "      <td>60-69</td>\n",
       "      <td>ge40</td>\n",
       "      <td>15-19</td>\n",
       "      <td>0-2</td>\n",
       "      <td>no</td>\n",
       "      <td>2</td>\n",
       "      <td>right</td>\n",
       "      <td>left_up</td>\n",
       "      <td>no</td>\n",
       "    </tr>\n",
       "    <tr>\n",
       "      <th>4</th>\n",
       "      <td>no-recurrence-events</td>\n",
       "      <td>40-49</td>\n",
       "      <td>premeno</td>\n",
       "      <td>0-4</td>\n",
       "      <td>0-2</td>\n",
       "      <td>no</td>\n",
       "      <td>2</td>\n",
       "      <td>right</td>\n",
       "      <td>right_low</td>\n",
       "      <td>no</td>\n",
       "    </tr>\n",
       "  </tbody>\n",
       "</table>\n",
       "</div>"
      ],
      "text/plain": [
       "                  class    age menopause tumor-size inv-nodes node-caps  \\\n",
       "0  no-recurrence-events  30-39   premeno      30-34       0-2        no   \n",
       "1  no-recurrence-events  40-49   premeno      20-24       0-2        no   \n",
       "2  no-recurrence-events  40-49   premeno      20-24       0-2        no   \n",
       "3  no-recurrence-events  60-69      ge40      15-19       0-2        no   \n",
       "4  no-recurrence-events  40-49   premeno        0-4       0-2        no   \n",
       "\n",
       "   deg-malig breast breast-quad irradiat  \n",
       "0          3   left    left_low       no  \n",
       "1          2  right    right_up       no  \n",
       "2          2   left    left_low       no  \n",
       "3          2  right     left_up       no  \n",
       "4          2  right   right_low       no  "
      ]
     },
     "execution_count": 30,
     "metadata": {},
     "output_type": "execute_result"
    }
   ],
   "source": [
    "df[:5]"
   ]
  },
  {
   "cell_type": "code",
   "execution_count": 31,
   "metadata": {
    "collapsed": false,
    "scrolled": true
   },
   "outputs": [
    {
     "data": {
      "text/plain": [
       "class          category\n",
       "age            category\n",
       "menopause      category\n",
       "tumor-size     category\n",
       "inv-nodes      category\n",
       "node-caps      category\n",
       "deg-malig         int64\n",
       "breast         category\n",
       "breast-quad    category\n",
       "irradiat       category\n",
       "dtype: object"
      ]
     },
     "execution_count": 31,
     "metadata": {},
     "output_type": "execute_result"
    }
   ],
   "source": [
    "for col in [\"class\", \"age\", \"menopause\", \"tumor-size\", \"inv-nodes\", \"node-caps\", \"breast\", \"breast-quad\", \"irradiat\"]:\n",
    "    df[col] = df[col].astype('category')\n",
    "df.dtypes"
   ]
  },
  {
   "cell_type": "code",
   "execution_count": 32,
   "metadata": {
    "collapsed": false
   },
   "outputs": [],
   "source": [
    "df= df.dropna()"
   ]
  },
  {
   "cell_type": "code",
   "execution_count": 33,
   "metadata": {
    "collapsed": false
   },
   "outputs": [],
   "source": [
    "y_data = df.pop(\"class\")\n",
    "y_data = pd.get_dummies(y_data).as_matrix()\n",
    "\n",
    "x_data = df\n",
    "x_data.insert(0, \"bias\", 1)\n",
    "x_data = pd.get_dummies(x_data).as_matrix()\n"
   ]
  },
  {
   "cell_type": "code",
   "execution_count": 34,
   "metadata": {
    "collapsed": false
   },
   "outputs": [],
   "source": [
    "def train_navie_bayes_possiblities(x_data, y_data):\n",
    "    num_total_case = len(x_data)\n",
    "    num_attributes = len(x_data[0])\n",
    "    num_class_series =  np.unique(y_data, return_counts=True)\n",
    "    num_class_possbilities = num_class_series[1] / num_total_case\n",
    "    \n",
    "    case_indexes = []\n",
    "    for case in num_class_series[0]:\n",
    "        case_indexes.append(np.where(y_data == case)[0])\n",
    "        \n",
    "    possbiliteis_vector = []\n",
    "    for i, case_index in enumerate(case_indexes):\n",
    "        possbiliteis_vector.append( (np.sum(x_data[case_index], axis=0)+1  ) / (num_class_series[1][i]+2) )\n",
    "    return num_class_possbilities, possbiliteis_vector\n",
    "\n",
    "def infsum(data, **args):\n",
    "    return np.ma.filled(np.ma.masked_array(data,np.isinf(data)).sum(**args), fill_value=np.nan)\n"
   ]
  },
  {
   "cell_type": "code",
   "execution_count": 35,
   "metadata": {
    "collapsed": false
   },
   "outputs": [
    {
     "name": "stderr",
     "output_type": "stream",
     "text": [
      "/home/seong_cheol_kim/miniconda3/envs/ml_python/lib/python3.4/site-packages/ipykernel/__main__.py:18: DeprecationWarning: elementwise == comparison failed; this will raise an error in the future.\n"
     ]
    },
    {
     "ename": "TypeError",
     "evalue": "'bool' object is not iterable",
     "output_type": "error",
     "traceback": [
      "\u001b[1;31m---------------------------------------------------------------------------\u001b[0m",
      "\u001b[1;31mTypeError\u001b[0m                                 Traceback (most recent call last)",
      "\u001b[1;32m<ipython-input-35-b9f7302f854b>\u001b[0m in \u001b[0;36m<module>\u001b[1;34m()\u001b[0m\n\u001b[0;32m     16\u001b[0m \u001b[1;33m\u001b[0m\u001b[0m\n\u001b[0;32m     17\u001b[0m     \u001b[0mclasfiy_vector\u001b[0m \u001b[1;33m=\u001b[0m \u001b[0mnp\u001b[0m\u001b[1;33m.\u001b[0m\u001b[0margmax\u001b[0m\u001b[1;33m(\u001b[0m\u001b[0mnp\u001b[0m\u001b[1;33m.\u001b[0m\u001b[0marray\u001b[0m\u001b[1;33m(\u001b[0m\u001b[0mexpected_possbilites\u001b[0m\u001b[1;33m)\u001b[0m\u001b[1;33m,\u001b[0m \u001b[0maxis\u001b[0m\u001b[1;33m=\u001b[0m\u001b[1;36m0\u001b[0m\u001b[1;33m)\u001b[0m\u001b[1;33m\u001b[0m\u001b[0m\n\u001b[1;32m---> 18\u001b[1;33m     \u001b[0mprint\u001b[0m\u001b[1;33m(\u001b[0m\u001b[0msum\u001b[0m\u001b[1;33m(\u001b[0m\u001b[0mclasfiy_vector\u001b[0m \u001b[1;33m==\u001b[0m \u001b[0my_data\u001b[0m\u001b[1;33m[\u001b[0m\u001b[0mtest_index\u001b[0m\u001b[1;33m]\u001b[0m\u001b[1;33m.\u001b[0m\u001b[0mravel\u001b[0m\u001b[1;33m(\u001b[0m\u001b[1;33m)\u001b[0m\u001b[1;33m)\u001b[0m\u001b[1;33m/\u001b[0m \u001b[0mlen\u001b[0m\u001b[1;33m(\u001b[0m\u001b[0my_data\u001b[0m\u001b[1;33m[\u001b[0m\u001b[0mtest_index\u001b[0m\u001b[1;33m]\u001b[0m\u001b[1;33m.\u001b[0m\u001b[0mravel\u001b[0m\u001b[1;33m(\u001b[0m\u001b[1;33m)\u001b[0m\u001b[1;33m)\u001b[0m\u001b[1;33m)\u001b[0m\u001b[1;33m\u001b[0m\u001b[0m\n\u001b[0m",
      "\u001b[1;31mTypeError\u001b[0m: 'bool' object is not iterable"
     ]
    }
   ],
   "source": [
    "from sklearn.cross_validation import KFold\n",
    "kf = KFold(len(y_data), n_folds=2)\n",
    "\n",
    "for train_index, test_index in kf:\n",
    "    x_train, x_test = x_data[train_index], x_data[test_index]\n",
    "    y_train, y_test = y_data[train_index], y_data[test_index]\n",
    "    \n",
    "    num_class_possbilities, possbiliteis_vector = train_navie_bayes_possiblities(x_train,y_train)\n",
    "\n",
    "    expected_possbilites = []\n",
    " \n",
    "    for i, case in enumerate(num_class_possbilities): \n",
    "        sum_vector = np.log(x_test * possbiliteis_vector[i])\n",
    "        sum_possbilities = infsum(sum_vector, axis=1)\n",
    "        expected_possbilites.append(sum_possbilities)\n",
    "    \n",
    "    clasfiy_vector = np.argmax(np.array(expected_possbilites), axis=0)\n",
    "    print(sum(clasfiy_vector == y_data[test_index].ravel())/ len(y_data[test_index].ravel()))\n"
   ]
  },
  {
   "cell_type": "code",
   "execution_count": 81,
   "metadata": {
    "collapsed": false
   },
   "outputs": [
    {
     "name": "stdout",
     "output_type": "stream",
     "text": [
      "0.5\n"
     ]
    },
    {
     "ename": "ValueError",
     "evalue": "This solver needs samples of at least 2 classes in the data, but the data contains only one class: 1.0",
     "output_type": "error",
     "traceback": [
      "\u001b[1;31m---------------------------------------------------------------------------\u001b[0m",
      "\u001b[1;31mValueError\u001b[0m                                Traceback (most recent call last)",
      "\u001b[1;32m<ipython-input-81-a667666e3396>\u001b[0m in \u001b[0;36m<module>\u001b[1;34m()\u001b[0m\n\u001b[0;32m      7\u001b[0m \u001b[1;33m\u001b[0m\u001b[0m\n\u001b[0;32m      8\u001b[0m     \u001b[0mlogreg\u001b[0m \u001b[1;33m=\u001b[0m \u001b[0mlinear_model\u001b[0m\u001b[1;33m.\u001b[0m\u001b[0mLogisticRegression\u001b[0m\u001b[1;33m(\u001b[0m\u001b[0mC\u001b[0m\u001b[1;33m=\u001b[0m\u001b[1;36m1e5\u001b[0m\u001b[1;33m)\u001b[0m\u001b[1;33m\u001b[0m\u001b[0m\n\u001b[1;32m----> 9\u001b[1;33m     \u001b[0mlogreg\u001b[0m\u001b[1;33m.\u001b[0m\u001b[0mfit\u001b[0m\u001b[1;33m(\u001b[0m\u001b[0mx_train\u001b[0m\u001b[1;33m,\u001b[0m \u001b[0my_train\u001b[0m\u001b[1;33m.\u001b[0m\u001b[0mravel\u001b[0m\u001b[1;33m(\u001b[0m\u001b[1;33m)\u001b[0m\u001b[1;33m)\u001b[0m\u001b[1;33m\u001b[0m\u001b[0m\n\u001b[0m\u001b[0;32m     10\u001b[0m \u001b[1;33m\u001b[0m\u001b[0m\n\u001b[0;32m     11\u001b[0m     \u001b[0mprint\u001b[0m\u001b[1;33m(\u001b[0m\u001b[0msum\u001b[0m\u001b[1;33m(\u001b[0m\u001b[0mlogreg\u001b[0m\u001b[1;33m.\u001b[0m\u001b[0mpredict\u001b[0m\u001b[1;33m(\u001b[0m\u001b[0mx_test\u001b[0m\u001b[1;33m)\u001b[0m \u001b[1;33m==\u001b[0m \u001b[0my_test\u001b[0m\u001b[1;33m.\u001b[0m\u001b[0mravel\u001b[0m\u001b[1;33m(\u001b[0m\u001b[1;33m)\u001b[0m\u001b[1;33m)\u001b[0m \u001b[1;33m/\u001b[0m \u001b[0my_data\u001b[0m\u001b[1;33m.\u001b[0m\u001b[0mshape\u001b[0m\u001b[1;33m[\u001b[0m\u001b[1;36m0\u001b[0m\u001b[1;33m]\u001b[0m\u001b[1;33m)\u001b[0m\u001b[1;33m\u001b[0m\u001b[0m\n",
      "\u001b[1;32m/home/leejaeho/miniconda3/envs/ml_python/lib/python3.4/site-packages/sklearn/linear_model/logistic.py\u001b[0m in \u001b[0;36mfit\u001b[1;34m(self, X, y, sample_weight)\u001b[0m\n\u001b[0;32m   1152\u001b[0m                 \u001b[0mX\u001b[0m\u001b[1;33m,\u001b[0m \u001b[0my\u001b[0m\u001b[1;33m,\u001b[0m \u001b[0mself\u001b[0m\u001b[1;33m.\u001b[0m\u001b[0mC\u001b[0m\u001b[1;33m,\u001b[0m \u001b[0mself\u001b[0m\u001b[1;33m.\u001b[0m\u001b[0mfit_intercept\u001b[0m\u001b[1;33m,\u001b[0m \u001b[0mself\u001b[0m\u001b[1;33m.\u001b[0m\u001b[0mintercept_scaling\u001b[0m\u001b[1;33m,\u001b[0m\u001b[1;33m\u001b[0m\u001b[0m\n\u001b[0;32m   1153\u001b[0m                 \u001b[0mself\u001b[0m\u001b[1;33m.\u001b[0m\u001b[0mclass_weight\u001b[0m\u001b[1;33m,\u001b[0m \u001b[0mself\u001b[0m\u001b[1;33m.\u001b[0m\u001b[0mpenalty\u001b[0m\u001b[1;33m,\u001b[0m \u001b[0mself\u001b[0m\u001b[1;33m.\u001b[0m\u001b[0mdual\u001b[0m\u001b[1;33m,\u001b[0m \u001b[0mself\u001b[0m\u001b[1;33m.\u001b[0m\u001b[0mverbose\u001b[0m\u001b[1;33m,\u001b[0m\u001b[1;33m\u001b[0m\u001b[0m\n\u001b[1;32m-> 1154\u001b[1;33m                 self.max_iter, self.tol, self.random_state)\n\u001b[0m\u001b[0;32m   1155\u001b[0m             \u001b[0mself\u001b[0m\u001b[1;33m.\u001b[0m\u001b[0mn_iter_\u001b[0m \u001b[1;33m=\u001b[0m \u001b[0mnp\u001b[0m\u001b[1;33m.\u001b[0m\u001b[0marray\u001b[0m\u001b[1;33m(\u001b[0m\u001b[1;33m[\u001b[0m\u001b[0mn_iter_\u001b[0m\u001b[1;33m]\u001b[0m\u001b[1;33m)\u001b[0m\u001b[1;33m\u001b[0m\u001b[0m\n\u001b[0;32m   1156\u001b[0m             \u001b[1;32mreturn\u001b[0m \u001b[0mself\u001b[0m\u001b[1;33m\u001b[0m\u001b[0m\n",
      "\u001b[1;32m/home/leejaeho/miniconda3/envs/ml_python/lib/python3.4/site-packages/sklearn/svm/base.py\u001b[0m in \u001b[0;36m_fit_liblinear\u001b[1;34m(X, y, C, fit_intercept, intercept_scaling, class_weight, penalty, dual, verbose, max_iter, tol, random_state, multi_class, loss, epsilon)\u001b[0m\n\u001b[0;32m    883\u001b[0m             raise ValueError(\"This solver needs samples of at least 2 classes\"\n\u001b[0;32m    884\u001b[0m                              \u001b[1;34m\" in the data, but the data contains only one\"\u001b[0m\u001b[1;33m\u001b[0m\u001b[0m\n\u001b[1;32m--> 885\u001b[1;33m                              \" class: %r\" % classes_[0])\n\u001b[0m\u001b[0;32m    886\u001b[0m \u001b[1;33m\u001b[0m\u001b[0m\n\u001b[0;32m    887\u001b[0m         \u001b[0mclass_weight_\u001b[0m \u001b[1;33m=\u001b[0m \u001b[0mcompute_class_weight\u001b[0m\u001b[1;33m(\u001b[0m\u001b[0mclass_weight\u001b[0m\u001b[1;33m,\u001b[0m \u001b[0mclasses_\u001b[0m\u001b[1;33m,\u001b[0m \u001b[0my\u001b[0m\u001b[1;33m)\u001b[0m\u001b[1;33m\u001b[0m\u001b[0m\n",
      "\u001b[1;31mValueError\u001b[0m: This solver needs samples of at least 2 classes in the data, but the data contains only one class: 1.0"
     ]
    }
   ],
   "source": [
    "from sklearn import linear_model, datasets\n",
    "\n",
    "\n",
    "for train_index, test_index in kf:\n",
    "    x_train, x_test = x_data[train_index], x_data[test_index]\n",
    "    y_train, y_test = y_data[train_index], y_data[test_index]\n",
    "\n",
    "    logreg = linear_model.LogisticRegression(C=1e5)\n",
    "    logreg.fit(x_train, y_train.ravel())\n",
    "    \n",
    "    print(sum(logreg.predict(x_test) == y_test.ravel()) / y_data.shape[0])"
   ]
  },
  {
   "cell_type": "code",
   "execution_count": 85,
   "metadata": {
    "collapsed": false
   },
   "outputs": [
    {
     "name": "stdout",
     "output_type": "stream",
     "text": [
      "[ 0.63953488  0.63953488  0.63953488  0.36046512  0.63953488  0.63953488\n",
      "  0.63953488  0.36046512  0.63953488  0.63953488  0.36046512  0.63953488\n",
      "  0.63953488  0.63953488  0.63953488  0.63953488  0.36046512  0.63953488\n",
      "  0.36046512  0.63953488  0.63953488  0.36046512  0.63953488  0.36046512\n",
      "  0.63953488  0.63953488  0.36046512  0.36046512  0.63953488  0.36046512\n",
      "  0.36046512  0.63953488  0.63953488  0.63953488  0.63953488  0.36046512\n",
      "  0.63953488  0.63953488  0.63953488  0.63953488  0.63953488  0.63953488\n",
      "  0.63953488  0.36046512  0.36046512  0.63953488  0.63953488  0.36046512\n",
      "  0.63953488  0.36046512  0.63953488  0.36046512  0.36046512  0.36046512\n",
      "  0.63953488  0.63953488  0.36046512  0.63953488  0.63953488  0.36046512\n",
      "  0.36046512  0.63953488  0.36046512  0.63953488  0.63953488  0.63953488\n",
      "  0.36046512  0.63953488  0.36046512  0.63953488  0.63953488  0.63953488\n",
      "  0.36046512  0.63953488  0.36046512  0.36046512  0.63953488  0.36046512\n",
      "  0.63953488  0.63953488  0.36046512  0.63953488  0.63953488  0.36046512\n",
      "  0.63953488  0.63953488]\n",
      "[ 0.6744186  0.6744186  0.6744186  0.3255814  0.6744186  0.6744186\n",
      "  0.6744186  0.6744186  0.3255814  0.6744186  0.3255814  0.3255814\n",
      "  0.6744186  0.6744186  0.6744186  0.6744186  0.6744186  0.6744186\n",
      "  0.6744186  0.6744186  0.6744186  0.3255814  0.6744186  0.3255814\n",
      "  0.3255814  0.3255814  0.6744186  0.6744186  0.6744186  0.6744186\n",
      "  0.6744186  0.6744186  0.6744186  0.3255814  0.3255814  0.6744186\n",
      "  0.6744186  0.6744186  0.6744186  0.3255814  0.3255814  0.6744186\n",
      "  0.6744186  0.3255814  0.6744186  0.6744186  0.3255814  0.3255814\n",
      "  0.6744186  0.6744186  0.6744186  0.3255814  0.6744186  0.6744186\n",
      "  0.3255814  0.6744186  0.6744186  0.6744186  0.6744186  0.6744186\n",
      "  0.6744186  0.6744186  0.6744186  0.6744186  0.6744186  0.3255814\n",
      "  0.3255814  0.3255814  0.3255814  0.3255814  0.3255814  0.6744186\n",
      "  0.6744186  0.3255814  0.6744186  0.6744186  0.6744186  0.3255814\n",
      "  0.3255814  0.6744186  0.6744186  0.6744186  0.6744186  0.3255814\n",
      "  0.6744186  0.3255814]\n",
      "[ 0.68604651  0.68604651  0.68604651  0.68604651  0.31395349  0.31395349\n",
      "  0.68604651  0.31395349  0.68604651  0.68604651  0.31395349  0.68604651\n",
      "  0.31395349  0.68604651  0.68604651  0.31395349  0.31395349  0.31395349\n",
      "  0.68604651  0.68604651  0.68604651  0.68604651  0.68604651  0.68604651\n",
      "  0.68604651  0.31395349  0.31395349  0.68604651  0.31395349  0.31395349\n",
      "  0.31395349  0.68604651  0.68604651  0.31395349  0.68604651  0.68604651\n",
      "  0.31395349  0.68604651  0.68604651  0.68604651  0.31395349  0.68604651\n",
      "  0.68604651  0.68604651  0.68604651  0.68604651  0.68604651  0.68604651\n",
      "  0.68604651  0.68604651  0.68604651  0.68604651  0.31395349  0.68604651\n",
      "  0.68604651  0.31395349  0.31395349  0.68604651  0.68604651  0.68604651\n",
      "  0.68604651  0.68604651  0.68604651  0.68604651  0.68604651  0.68604651\n",
      "  0.68604651  0.68604651  0.68604651  0.68604651  0.31395349  0.31395349\n",
      "  0.31395349  0.31395349  0.68604651  0.68604651  0.68604651  0.31395349\n",
      "  0.68604651  0.31395349  0.68604651  0.31395349  0.68604651  0.68604651\n",
      "  0.31395349  0.68604651]\n",
      "[ 0.69767442  0.69767442  0.69767442  0.30232558  0.69767442  0.69767442\n",
      "  0.30232558  0.69767442  0.69767442  0.30232558  0.69767442  0.69767442\n",
      "  0.69767442  0.69767442  0.69767442  0.69767442  0.30232558  0.69767442\n",
      "  0.69767442  0.30232558  0.69767442  0.69767442  0.30232558  0.69767442\n",
      "  0.30232558  0.69767442  0.69767442  0.30232558  0.30232558  0.69767442\n",
      "  0.30232558  0.69767442  0.69767442  0.69767442  0.30232558  0.69767442\n",
      "  0.30232558  0.69767442  0.69767442  0.69767442  0.30232558  0.69767442\n",
      "  0.30232558  0.69767442  0.69767442  0.69767442  0.30232558  0.69767442\n",
      "  0.30232558  0.69767442  0.30232558  0.69767442  0.69767442  0.69767442\n",
      "  0.69767442  0.69767442  0.30232558  0.69767442  0.69767442  0.30232558\n",
      "  0.69767442  0.30232558  0.69767442  0.69767442  0.30232558  0.69767442\n",
      "  0.30232558  0.69767442  0.69767442  0.69767442  0.69767442  0.69767442\n",
      "  0.69767442  0.69767442  0.69767442  0.30232558  0.69767442  0.69767442\n",
      "  0.69767442  0.30232558  0.69767442  0.69767442  0.69767442  0.30232558\n",
      "  0.30232558  0.69767442]\n",
      "[ 0.27906977  0.72093023  0.72093023  0.72093023  0.72093023  0.27906977\n",
      "  0.72093023  0.72093023  0.72093023  0.27906977  0.72093023  0.72093023\n",
      "  0.27906977  0.72093023  0.27906977  0.72093023  0.72093023  0.27906977\n",
      "  0.27906977  0.72093023  0.27906977  0.27906977  0.72093023  0.72093023\n",
      "  0.72093023  0.72093023  0.72093023  0.72093023  0.27906977  0.72093023\n",
      "  0.72093023  0.72093023  0.72093023  0.72093023  0.72093023  0.72093023\n",
      "  0.72093023  0.72093023  0.72093023  0.27906977  0.72093023  0.72093023\n",
      "  0.27906977  0.27906977  0.27906977  0.72093023  0.72093023  0.72093023\n",
      "  0.27906977  0.72093023  0.72093023  0.72093023  0.72093023  0.72093023\n",
      "  0.72093023  0.27906977  0.72093023  0.72093023  0.27906977  0.72093023\n",
      "  0.27906977  0.72093023  0.27906977  0.72093023  0.72093023  0.72093023\n",
      "  0.72093023  0.27906977  0.27906977  0.72093023  0.72093023  0.27906977\n",
      "  0.72093023  0.27906977  0.72093023  0.72093023  0.72093023  0.72093023\n",
      "  0.72093023  0.72093023  0.72093023  0.27906977  0.72093023  0.72093023\n",
      "  0.72093023  0.72093023]\n",
      "[ 0.70930233  0.70930233  0.29069767  0.29069767  0.70930233  0.70930233\n",
      "  0.70930233  0.70930233  0.29069767  0.70930233  0.29069767  0.70930233\n",
      "  0.70930233  0.70930233  0.29069767  0.29069767  0.70930233  0.70930233\n",
      "  0.70930233  0.70930233  0.29069767  0.29069767  0.29069767  0.70930233\n",
      "  0.70930233  0.70930233  0.29069767  0.70930233  0.70930233  0.29069767\n",
      "  0.70930233  0.70930233  0.70930233  0.70930233  0.70930233  0.29069767\n",
      "  0.29069767  0.70930233  0.70930233  0.29069767  0.70930233  0.29069767\n",
      "  0.70930233  0.70930233  0.70930233  0.70930233  0.70930233  0.70930233\n",
      "  0.70930233  0.29069767  0.70930233  0.70930233  0.29069767  0.29069767\n",
      "  0.70930233  0.29069767  0.70930233  0.29069767  0.70930233  0.70930233\n",
      "  0.29069767  0.29069767  0.70930233  0.29069767  0.70930233  0.70930233\n",
      "  0.70930233  0.70930233  0.70930233  0.70930233  0.70930233  0.70930233\n",
      "  0.29069767  0.70930233  0.70930233  0.70930233  0.70930233  0.70930233\n",
      "  0.70930233  0.29069767  0.70930233  0.70930233  0.70930233  0.70930233\n",
      "  0.70930233  0.70930233]\n",
      "[ 0.72093023  0.72093023  0.72093023  0.72093023  0.72093023  0.72093023\n",
      "  0.72093023  0.27906977  0.72093023  0.72093023  0.27906977  0.72093023\n",
      "  0.72093023  0.72093023  0.72093023  0.72093023  0.72093023  0.72093023\n",
      "  0.72093023  0.27906977  0.72093023  0.27906977  0.27906977  0.27906977\n",
      "  0.72093023  0.27906977  0.72093023  0.72093023  0.72093023  0.72093023\n",
      "  0.72093023  0.72093023  0.27906977  0.72093023  0.72093023  0.72093023\n",
      "  0.27906977  0.72093023  0.72093023  0.27906977  0.72093023  0.72093023\n",
      "  0.72093023  0.72093023  0.72093023  0.72093023  0.72093023  0.72093023\n",
      "  0.72093023  0.27906977  0.72093023  0.27906977  0.27906977  0.72093023\n",
      "  0.27906977  0.72093023  0.72093023  0.27906977  0.72093023  0.72093023\n",
      "  0.27906977  0.72093023  0.27906977  0.72093023  0.72093023  0.27906977\n",
      "  0.72093023  0.27906977  0.72093023  0.27906977  0.72093023  0.72093023\n",
      "  0.27906977  0.72093023  0.72093023  0.72093023  0.27906977  0.72093023\n",
      "  0.72093023  0.72093023  0.72093023  0.72093023  0.72093023  0.27906977\n",
      "  0.72093023  0.27906977]\n",
      "[ 0.68604651  0.68604651  0.68604651  0.68604651  0.31395349  0.68604651\n",
      "  0.31395349  0.68604651  0.68604651  0.68604651  0.68604651  0.68604651\n",
      "  0.68604651  0.31395349  0.68604651  0.31395349  0.68604651  0.68604651\n",
      "  0.68604651  0.31395349  0.68604651  0.68604651  0.31395349  0.31395349\n",
      "  0.68604651  0.31395349  0.68604651  0.68604651  0.68604651  0.68604651\n",
      "  0.68604651  0.68604651  0.68604651  0.31395349  0.68604651  0.68604651\n",
      "  0.68604651  0.31395349  0.68604651  0.31395349  0.68604651  0.68604651\n",
      "  0.31395349  0.31395349  0.31395349  0.31395349  0.68604651  0.68604651\n",
      "  0.68604651  0.68604651  0.31395349  0.68604651  0.31395349  0.31395349\n",
      "  0.68604651  0.31395349  0.68604651  0.68604651  0.31395349  0.68604651\n",
      "  0.31395349  0.68604651  0.68604651  0.68604651  0.68604651  0.31395349\n",
      "  0.31395349  0.68604651  0.68604651  0.68604651  0.68604651  0.68604651\n",
      "  0.68604651  0.68604651  0.68604651  0.31395349  0.68604651  0.68604651\n",
      "  0.31395349  0.68604651  0.68604651  0.31395349  0.31395349  0.68604651\n",
      "  0.68604651  0.68604651]\n",
      "[ 0.70930233  0.29069767  0.70930233  0.70930233  0.70930233  0.70930233\n",
      "  0.29069767  0.29069767  0.29069767  0.29069767  0.70930233  0.29069767\n",
      "  0.29069767  0.70930233  0.70930233  0.29069767  0.70930233  0.29069767\n",
      "  0.70930233  0.70930233  0.70930233  0.70930233  0.70930233  0.70930233\n",
      "  0.70930233  0.70930233  0.29069767  0.70930233  0.70930233  0.70930233\n",
      "  0.70930233  0.70930233  0.70930233  0.70930233  0.70930233  0.70930233\n",
      "  0.70930233  0.70930233  0.70930233  0.70930233  0.29069767  0.70930233\n",
      "  0.70930233  0.70930233  0.70930233  0.70930233  0.29069767  0.29069767\n",
      "  0.29069767  0.70930233  0.70930233  0.70930233  0.70930233  0.70930233\n",
      "  0.70930233  0.29069767  0.29069767  0.70930233  0.70930233  0.70930233\n",
      "  0.70930233  0.70930233  0.70930233  0.70930233  0.29069767  0.29069767\n",
      "  0.29069767  0.70930233  0.29069767  0.29069767  0.70930233  0.70930233\n",
      "  0.29069767  0.70930233  0.29069767  0.70930233  0.70930233  0.70930233\n",
      "  0.70930233  0.70930233  0.29069767  0.70930233  0.70930233  0.70930233\n",
      "  0.29069767  0.70930233]\n",
      "[ 0.75581395  0.75581395  0.24418605  0.24418605  0.75581395  0.75581395\n",
      "  0.75581395  0.75581395  0.75581395  0.75581395  0.75581395  0.75581395\n",
      "  0.75581395  0.75581395  0.24418605  0.75581395  0.75581395  0.75581395\n",
      "  0.75581395  0.24418605  0.75581395  0.75581395  0.24418605  0.75581395\n",
      "  0.75581395  0.75581395  0.24418605  0.75581395  0.24418605  0.75581395\n",
      "  0.75581395  0.24418605  0.75581395  0.75581395  0.75581395  0.75581395\n",
      "  0.24418605  0.75581395  0.75581395  0.75581395  0.75581395  0.24418605\n",
      "  0.24418605  0.75581395  0.75581395  0.24418605  0.75581395  0.75581395\n",
      "  0.24418605  0.75581395  0.75581395  0.24418605  0.24418605  0.75581395\n",
      "  0.75581395  0.75581395  0.75581395  0.75581395  0.24418605  0.75581395\n",
      "  0.24418605  0.24418605  0.75581395  0.24418605  0.75581395  0.24418605\n",
      "  0.75581395  0.75581395  0.75581395  0.75581395  0.75581395  0.75581395\n",
      "  0.75581395  0.24418605  0.24418605  0.24418605  0.24418605  0.75581395\n",
      "  0.75581395  0.75581395  0.75581395  0.24418605  0.75581395  0.75581395\n",
      "  0.75581395  0.75581395]\n"
     ]
    },
    {
     "name": "stderr",
     "output_type": "stream",
     "text": [
      "/home/leejaeho/miniconda3/envs/ml_python/lib/python3.4/site-packages/sklearn/utils/validation.py:515: DataConversionWarning: A column-vector y was passed when a 1d array was expected. Please change the shape of y to (n_samples, ), for example using ravel().\n",
      "  y = column_or_1d(y, warn=True)\n",
      "/home/leejaeho/miniconda3/envs/ml_python/lib/python3.4/site-packages/sklearn/utils/validation.py:515: DataConversionWarning: A column-vector y was passed when a 1d array was expected. Please change the shape of y to (n_samples, ), for example using ravel().\n",
      "  y = column_or_1d(y, warn=True)\n",
      "/home/leejaeho/miniconda3/envs/ml_python/lib/python3.4/site-packages/sklearn/utils/validation.py:515: DataConversionWarning: A column-vector y was passed when a 1d array was expected. Please change the shape of y to (n_samples, ), for example using ravel().\n",
      "  y = column_or_1d(y, warn=True)\n",
      "/home/leejaeho/miniconda3/envs/ml_python/lib/python3.4/site-packages/sklearn/utils/validation.py:515: DataConversionWarning: A column-vector y was passed when a 1d array was expected. Please change the shape of y to (n_samples, ), for example using ravel().\n",
      "  y = column_or_1d(y, warn=True)\n",
      "/home/leejaeho/miniconda3/envs/ml_python/lib/python3.4/site-packages/sklearn/utils/validation.py:515: DataConversionWarning: A column-vector y was passed when a 1d array was expected. Please change the shape of y to (n_samples, ), for example using ravel().\n",
      "  y = column_or_1d(y, warn=True)\n",
      "/home/leejaeho/miniconda3/envs/ml_python/lib/python3.4/site-packages/sklearn/utils/validation.py:515: DataConversionWarning: A column-vector y was passed when a 1d array was expected. Please change the shape of y to (n_samples, ), for example using ravel().\n",
      "  y = column_or_1d(y, warn=True)\n",
      "/home/leejaeho/miniconda3/envs/ml_python/lib/python3.4/site-packages/sklearn/utils/validation.py:515: DataConversionWarning: A column-vector y was passed when a 1d array was expected. Please change the shape of y to (n_samples, ), for example using ravel().\n",
      "  y = column_or_1d(y, warn=True)\n",
      "/home/leejaeho/miniconda3/envs/ml_python/lib/python3.4/site-packages/sklearn/utils/validation.py:515: DataConversionWarning: A column-vector y was passed when a 1d array was expected. Please change the shape of y to (n_samples, ), for example using ravel().\n",
      "  y = column_or_1d(y, warn=True)\n",
      "/home/leejaeho/miniconda3/envs/ml_python/lib/python3.4/site-packages/sklearn/utils/validation.py:515: DataConversionWarning: A column-vector y was passed when a 1d array was expected. Please change the shape of y to (n_samples, ), for example using ravel().\n",
      "  y = column_or_1d(y, warn=True)\n",
      "/home/leejaeho/miniconda3/envs/ml_python/lib/python3.4/site-packages/sklearn/utils/validation.py:515: DataConversionWarning: A column-vector y was passed when a 1d array was expected. Please change the shape of y to (n_samples, ), for example using ravel().\n",
      "  y = column_or_1d(y, warn=True)\n"
     ]
    }
   ],
   "source": [
    "from sklearn.naive_bayes import GaussianNB\n",
    "\n",
    "for train_index, test_index in cv :\n",
    "    x_train, x_test = x_data[train_index], x_data[test_index]\n",
    "    y_train, y_test = y_data[train_index], y_data[test_index]\n",
    "    \n",
    "    clf = GaussianNB()\n",
    "    clf.fit(x_train, y_train)\n",
    "    result = clf.predict(x_test)\n",
    "    \n",
    "    print(sum(result == y_test) / len(y_test))"
   ]
  },
  {
   "cell_type": "code",
   "execution_count": null,
   "metadata": {
    "collapsed": true
   },
   "outputs": [],
   "source": []
  }
 ],
 "metadata": {
  "kernelspec": {
   "display_name": "Python 3",
   "language": "python",
   "name": "python3"
  },
  "language_info": {
   "codemirror_mode": {
    "name": "ipython",
    "version": 3
   },
   "file_extension": ".py",
   "mimetype": "text/x-python",
   "name": "python",
   "nbconvert_exporter": "python",
   "pygments_lexer": "ipython3",
   "version": "3.4.5"
  }
 },
 "nbformat": 4,
 "nbformat_minor": 0
}
