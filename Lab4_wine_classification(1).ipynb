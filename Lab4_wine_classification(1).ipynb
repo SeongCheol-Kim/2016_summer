{
 "cells": [
  {
   "cell_type": "code",
   "execution_count": 1,
   "metadata": {
    "collapsed": true
   },
   "outputs": [],
   "source": [
    "import numpy as np\n",
    "import tensorflow as tf\n",
    "from sklearn import linear_model, datasets\n",
    "from sklearn.preprocessing import normalize\n",
    "import urllib.request as url\n",
    "import pandas"
   ]
  },
  {
   "cell_type": "code",
   "execution_count": 2,
   "metadata": {
    "collapsed": false
   },
   "outputs": [
    {
     "data": {
      "text/html": [
       "<div>\n",
       "<table border=\"1\" class=\"dataframe\">\n",
       "  <thead>\n",
       "    <tr style=\"text-align: right;\">\n",
       "      <th></th>\n",
       "      <th>class</th>\n",
       "      <th>alcohol</th>\n",
       "      <th>malic acid</th>\n",
       "      <th>ash</th>\n",
       "      <th>alcalinity of ash</th>\n",
       "      <th>magnesium</th>\n",
       "      <th>total phenols</th>\n",
       "      <th>flavanoids</th>\n",
       "      <th>nonflavanoid phenols</th>\n",
       "      <th>proanthocyanins</th>\n",
       "      <th>color intensity</th>\n",
       "      <th>hue</th>\n",
       "      <th>diluted wines</th>\n",
       "      <th>proline</th>\n",
       "    </tr>\n",
       "  </thead>\n",
       "  <tbody>\n",
       "    <tr>\n",
       "      <th>0</th>\n",
       "      <td>1</td>\n",
       "      <td>14.23</td>\n",
       "      <td>1.71</td>\n",
       "      <td>2.43</td>\n",
       "      <td>15.6</td>\n",
       "      <td>127</td>\n",
       "      <td>2.80</td>\n",
       "      <td>3.06</td>\n",
       "      <td>0.28</td>\n",
       "      <td>2.29</td>\n",
       "      <td>5.64</td>\n",
       "      <td>1.04</td>\n",
       "      <td>3.92</td>\n",
       "      <td>1065</td>\n",
       "    </tr>\n",
       "    <tr>\n",
       "      <th>1</th>\n",
       "      <td>1</td>\n",
       "      <td>13.20</td>\n",
       "      <td>1.78</td>\n",
       "      <td>2.14</td>\n",
       "      <td>11.2</td>\n",
       "      <td>100</td>\n",
       "      <td>2.65</td>\n",
       "      <td>2.76</td>\n",
       "      <td>0.26</td>\n",
       "      <td>1.28</td>\n",
       "      <td>4.38</td>\n",
       "      <td>1.05</td>\n",
       "      <td>3.40</td>\n",
       "      <td>1050</td>\n",
       "    </tr>\n",
       "    <tr>\n",
       "      <th>2</th>\n",
       "      <td>1</td>\n",
       "      <td>13.16</td>\n",
       "      <td>2.36</td>\n",
       "      <td>2.67</td>\n",
       "      <td>18.6</td>\n",
       "      <td>101</td>\n",
       "      <td>2.80</td>\n",
       "      <td>3.24</td>\n",
       "      <td>0.30</td>\n",
       "      <td>2.81</td>\n",
       "      <td>5.68</td>\n",
       "      <td>1.03</td>\n",
       "      <td>3.17</td>\n",
       "      <td>1185</td>\n",
       "    </tr>\n",
       "    <tr>\n",
       "      <th>3</th>\n",
       "      <td>1</td>\n",
       "      <td>14.37</td>\n",
       "      <td>1.95</td>\n",
       "      <td>2.50</td>\n",
       "      <td>16.8</td>\n",
       "      <td>113</td>\n",
       "      <td>3.85</td>\n",
       "      <td>3.49</td>\n",
       "      <td>0.24</td>\n",
       "      <td>2.18</td>\n",
       "      <td>7.80</td>\n",
       "      <td>0.86</td>\n",
       "      <td>3.45</td>\n",
       "      <td>1480</td>\n",
       "    </tr>\n",
       "    <tr>\n",
       "      <th>4</th>\n",
       "      <td>1</td>\n",
       "      <td>13.24</td>\n",
       "      <td>2.59</td>\n",
       "      <td>2.87</td>\n",
       "      <td>21.0</td>\n",
       "      <td>118</td>\n",
       "      <td>2.80</td>\n",
       "      <td>2.69</td>\n",
       "      <td>0.39</td>\n",
       "      <td>1.82</td>\n",
       "      <td>4.32</td>\n",
       "      <td>1.04</td>\n",
       "      <td>2.93</td>\n",
       "      <td>735</td>\n",
       "    </tr>\n",
       "  </tbody>\n",
       "</table>\n",
       "</div>"
      ],
      "text/plain": [
       "   class  alcohol  malic acid   ash  alcalinity of ash  magnesium  \\\n",
       "0      1    14.23        1.71  2.43               15.6        127   \n",
       "1      1    13.20        1.78  2.14               11.2        100   \n",
       "2      1    13.16        2.36  2.67               18.6        101   \n",
       "3      1    14.37        1.95  2.50               16.8        113   \n",
       "4      1    13.24        2.59  2.87               21.0        118   \n",
       "\n",
       "   total phenols  flavanoids  nonflavanoid phenols  proanthocyanins  \\\n",
       "0           2.80        3.06                  0.28             2.29   \n",
       "1           2.65        2.76                  0.26             1.28   \n",
       "2           2.80        3.24                  0.30             2.81   \n",
       "3           3.85        3.49                  0.24             2.18   \n",
       "4           2.80        2.69                  0.39             1.82   \n",
       "\n",
       "   color intensity   hue  diluted wines  proline  \n",
       "0             5.64  1.04           3.92     1065  \n",
       "1             4.38  1.05           3.40     1050  \n",
       "2             5.68  1.03           3.17     1185  \n",
       "3             7.80  0.86           3.45     1480  \n",
       "4             4.32  1.04           2.93      735  "
      ]
     },
     "execution_count": 2,
     "metadata": {},
     "output_type": "execute_result"
    }
   ],
   "source": [
    "# https://archive.ics.uci.edu/ml/machine-learning-databases/parkinsons/parkinsons.names\n",
    "\n",
    "data_source = \"https://archive.ics.uci.edu/ml/machine-learning-databases/wine/wine.data\"\n",
    "names = ['class', 'alcohol', 'malic acid','ash','alcalinity of ash','magnesium','total phenols', 'flavanoids','nonflavanoid phenols', 'proanthocyanins', 'color intensity', 'hue', 'diluted wines', 'proline']\n",
    "\n",
    "df = pandas.read_csv(data_source, names=names)\n",
    "df[:5]"
   ]
  },
  {
   "cell_type": "code",
   "execution_count": 3,
   "metadata": {
    "collapsed": false
   },
   "outputs": [],
   "source": [
    "# class만 따로 y_data에 할당\n",
    "\n",
    "y_data = df[\"class\"].values.reshape(-1,1)"
   ]
  },
  {
   "cell_type": "code",
   "execution_count": 4,
   "metadata": {
    "collapsed": false
   },
   "outputs": [
    {
     "data": {
      "text/html": [
       "<div>\n",
       "<table border=\"1\" class=\"dataframe\">\n",
       "  <thead>\n",
       "    <tr style=\"text-align: right;\">\n",
       "      <th></th>\n",
       "      <th>alcohol</th>\n",
       "      <th>malic acid</th>\n",
       "      <th>ash</th>\n",
       "      <th>alcalinity of ash</th>\n",
       "      <th>magnesium</th>\n",
       "      <th>total phenols</th>\n",
       "      <th>flavanoids</th>\n",
       "      <th>nonflavanoid phenols</th>\n",
       "      <th>proanthocyanins</th>\n",
       "      <th>color intensity</th>\n",
       "      <th>hue</th>\n",
       "      <th>diluted wines</th>\n",
       "      <th>proline</th>\n",
       "    </tr>\n",
       "  </thead>\n",
       "  <tbody>\n",
       "    <tr>\n",
       "      <th>0</th>\n",
       "      <td>0.323522</td>\n",
       "      <td>-0.123784</td>\n",
       "      <td>0.033948</td>\n",
       "      <td>-0.200770</td>\n",
       "      <td>0.296287</td>\n",
       "      <td>0.174099</td>\n",
       "      <td>0.217454</td>\n",
       "      <td>-0.154441</td>\n",
       "      <td>0.220537</td>\n",
       "      <td>0.049651</td>\n",
       "      <td>0.067114</td>\n",
       "      <td>0.479236</td>\n",
       "      <td>0.226895</td>\n",
       "    </tr>\n",
       "    <tr>\n",
       "      <th>1</th>\n",
       "      <td>0.052469</td>\n",
       "      <td>-0.109950</td>\n",
       "      <td>-0.121132</td>\n",
       "      <td>-0.427574</td>\n",
       "      <td>0.002809</td>\n",
       "      <td>0.122375</td>\n",
       "      <td>0.154163</td>\n",
       "      <td>-0.192177</td>\n",
       "      <td>-0.098075</td>\n",
       "      <td>-0.057857</td>\n",
       "      <td>0.075244</td>\n",
       "      <td>0.288760</td>\n",
       "      <td>0.216196</td>\n",
       "    </tr>\n",
       "    <tr>\n",
       "      <th>2</th>\n",
       "      <td>0.041943</td>\n",
       "      <td>0.004674</td>\n",
       "      <td>0.162290</td>\n",
       "      <td>-0.046131</td>\n",
       "      <td>0.013679</td>\n",
       "      <td>0.174099</td>\n",
       "      <td>0.255428</td>\n",
       "      <td>-0.116706</td>\n",
       "      <td>0.384574</td>\n",
       "      <td>0.053064</td>\n",
       "      <td>0.058984</td>\n",
       "      <td>0.204511</td>\n",
       "      <td>0.312487</td>\n",
       "    </tr>\n",
       "    <tr>\n",
       "      <th>3</th>\n",
       "      <td>0.360364</td>\n",
       "      <td>-0.076353</td>\n",
       "      <td>0.071381</td>\n",
       "      <td>-0.138915</td>\n",
       "      <td>0.144113</td>\n",
       "      <td>0.536168</td>\n",
       "      <td>0.308171</td>\n",
       "      <td>-0.229913</td>\n",
       "      <td>0.185836</td>\n",
       "      <td>0.233951</td>\n",
       "      <td>-0.079227</td>\n",
       "      <td>0.307075</td>\n",
       "      <td>0.522901</td>\n",
       "    </tr>\n",
       "    <tr>\n",
       "      <th>4</th>\n",
       "      <td>0.062995</td>\n",
       "      <td>0.050129</td>\n",
       "      <td>0.269242</td>\n",
       "      <td>0.077580</td>\n",
       "      <td>0.198461</td>\n",
       "      <td>0.174099</td>\n",
       "      <td>0.139395</td>\n",
       "      <td>0.053106</td>\n",
       "      <td>0.072272</td>\n",
       "      <td>-0.062977</td>\n",
       "      <td>0.067114</td>\n",
       "      <td>0.116599</td>\n",
       "      <td>-0.008483</td>\n",
       "    </tr>\n",
       "  </tbody>\n",
       "</table>\n",
       "</div>"
      ],
      "text/plain": [
       "    alcohol  malic acid       ash  alcalinity of ash  magnesium  \\\n",
       "0  0.323522   -0.123784  0.033948          -0.200770   0.296287   \n",
       "1  0.052469   -0.109950 -0.121132          -0.427574   0.002809   \n",
       "2  0.041943    0.004674  0.162290          -0.046131   0.013679   \n",
       "3  0.360364   -0.076353  0.071381          -0.138915   0.144113   \n",
       "4  0.062995    0.050129  0.269242           0.077580   0.198461   \n",
       "\n",
       "   total phenols  flavanoids  nonflavanoid phenols  proanthocyanins  \\\n",
       "0       0.174099    0.217454             -0.154441         0.220537   \n",
       "1       0.122375    0.154163             -0.192177        -0.098075   \n",
       "2       0.174099    0.255428             -0.116706         0.384574   \n",
       "3       0.536168    0.308171             -0.229913         0.185836   \n",
       "4       0.174099    0.139395              0.053106         0.072272   \n",
       "\n",
       "   color intensity       hue  diluted wines   proline  \n",
       "0         0.049651  0.067114       0.479236  0.226895  \n",
       "1        -0.057857  0.075244       0.288760  0.216196  \n",
       "2         0.053064  0.058984       0.204511  0.312487  \n",
       "3         0.233951 -0.079227       0.307075  0.522901  \n",
       "4        -0.062977  0.067114       0.116599 -0.008483  "
      ]
     },
     "execution_count": 4,
     "metadata": {},
     "output_type": "execute_result"
    }
   ],
   "source": [
    "# y_data를 제외한 모든 변수를 normalize\n",
    "\n",
    "df_norm = (df.ix[:,1:] - df.ix[:,1:].mean()) / (df.ix[:,1:].max() - df.ix[:,1:].min())\n",
    "df_norm[:5]"
   ]
  },
  {
   "cell_type": "code",
   "execution_count": 5,
   "metadata": {
    "collapsed": false
   },
   "outputs": [
    {
     "data": {
      "text/plain": [
       "array([[ 0.32352158, -0.12378425,  0.03394821, ...,  0.06711428,\n",
       "         0.47923612,  0.22689497],\n",
       "       [ 0.05246895, -0.10995026, -0.12113201, ...,  0.07524436,\n",
       "         0.28875993,  0.21619596],\n",
       "       [ 0.04194264,  0.00467425,  0.16229045, ...,  0.0589842 ,\n",
       "         0.20451084,  0.31248698],\n",
       "       ..., \n",
       "       [ 0.07089001,  0.38412089, -0.05696088, ..., -0.29873938,\n",
       "        -0.38523274,  0.06284361],\n",
       "       [ 0.04457422,  0.05012879,  0.00186264, ..., -0.2906093 ,\n",
       "        -0.36325472,  0.06640994],\n",
       "       [ 0.2972058 ,  0.34854776,  0.19972361, ..., -0.28247922,\n",
       "        -0.37058073, -0.13330475]])"
      ]
     },
     "execution_count": 5,
     "metadata": {},
     "output_type": "execute_result"
    }
   ],
   "source": [
    "# 정규화가 된 데이터를 x_data에 할당\n",
    "\n",
    "x_data = df_norm[:].values\n",
    "x_data"
   ]
  },
  {
   "cell_type": "code",
   "execution_count": 6,
   "metadata": {
    "collapsed": true
   },
   "outputs": [],
   "source": [
    "# 데이터를 랜덤하게 표본으로 추출함\n",
    "\n",
    "training_idx = np.random.randint(y_data.shape[0], size=int(y_data.shape[0] * 0.8))\n",
    "test_idx = np.random.randint(y_data.shape[0], size=int(y_data.shape[0] * 0.2))\n",
    "\n",
    "x_training, x_test = x_data[training_idx,:], x_data[test_idx,:]\n",
    "y_training, y_test = y_data[training_idx,:], y_data[test_idx,:]"
   ]
  },
  {
   "cell_type": "code",
   "execution_count": 7,
   "metadata": {
    "collapsed": true
   },
   "outputs": [],
   "source": [
    "X = tf.placeholder(tf.float32)\n",
    "Y = tf.placeholder(tf.float32)\n",
    "\n",
    "W = tf.Variable(tf.random_uniform([len(x_data[0]), 1], -1.0, -1.0))"
   ]
  },
  {
   "cell_type": "code",
   "execution_count": 8,
   "metadata": {
    "collapsed": true
   },
   "outputs": [],
   "source": [
    "h = tf.matmul(X, W)\n",
    "hypothesis = tf.div(1., 1. + tf.exp(-h))\n",
    "cost = -1 * tf.reduce_mean(Y * tf.log(hypothesis) + (1-Y) * tf.log(1-hypothesis))\n",
    "\n",
    "a = tf.Variable(0.1)\n",
    "optimizer = tf.train.GradientDescentOptimizer(a)\n",
    "train = optimizer.minimize(cost)\n",
    "\n",
    "init = tf.initialize_all_variables()"
   ]
  },
  {
   "cell_type": "code",
   "execution_count": 9,
   "metadata": {
    "collapsed": false
   },
   "outputs": [
    {
     "name": "stdout",
     "output_type": "stream",
     "text": [
      "0 0.419245\n",
      "50 0.101851\n",
      "100 -0.126435\n",
      "150 -0.306444\n",
      "200 -0.458633\n",
      "250 -0.593634\n",
      "300 -0.717373\n",
      "350 -0.833375\n",
      "400 -0.943847\n",
      "450 -1.05024\n",
      "500 -1.15355\n",
      "550 -1.25446\n",
      "600 -1.35348\n",
      "650 -1.45099\n",
      "700 -1.54724\n",
      "750 -1.64248\n",
      "800 -1.73683\n",
      "850 -1.83062\n",
      "900 -1.92349\n",
      "950 -2.01601\n"
     ]
    }
   ],
   "source": [
    "sess = tf.Session()\n",
    "sess.run(init)\n",
    "\n",
    "\n",
    "# cost_history = []\n",
    "\n",
    "for i in range(1000):\n",
    "    sess.run(train, feed_dict={X: x_training, Y:y_training})\n",
    "    if i % 50 == 0:\n",
    "        print (i, sess.run(cost, feed_dict={X: x_training, Y:y_training}))"
   ]
  },
  {
   "cell_type": "code",
   "execution_count": 10,
   "metadata": {
    "collapsed": false
   },
   "outputs": [
    {
     "data": {
      "text/plain": [
       "LogisticRegression(C=1.0, class_weight=None, dual=False, fit_intercept=False,\n",
       "          intercept_scaling=1, max_iter=100, multi_class='ovr', n_jobs=1,\n",
       "          penalty='l2', random_state=None, solver='liblinear', tol=0.0001,\n",
       "          verbose=0, warm_start=False)"
      ]
     },
     "execution_count": 10,
     "metadata": {},
     "output_type": "execute_result"
    }
   ],
   "source": [
    "from sklearn import linear_model, datasets\n",
    "\n",
    "logreg = linear_model.LogisticRegression(fit_intercept=False)\n",
    "logreg.fit(x_training, y_training.ravel())"
   ]
  },
  {
   "cell_type": "code",
   "execution_count": 11,
   "metadata": {
    "collapsed": false
   },
   "outputs": [
    {
     "data": {
      "text/plain": [
       "array([ 0.91428571])"
      ]
     },
     "execution_count": 11,
     "metadata": {},
     "output_type": "execute_result"
    }
   ],
   "source": [
    "sum(logreg.predict(x_test).reshape(-1,1) == y_test)  / y_test.shape[0] "
   ]
  },
  {
   "cell_type": "code",
   "execution_count": 12,
   "metadata": {
    "collapsed": false
   },
   "outputs": [
    {
     "data": {
      "text/plain": [
       "0.96857142857142842"
      ]
     },
     "execution_count": 12,
     "metadata": {},
     "output_type": "execute_result"
    }
   ],
   "source": [
    "prediction_result = []\n",
    "for _ in range(100):\n",
    "    training_idx = np.random.randint(y_data.shape[0], size=int(y_data.shape[0] * 0.8))\n",
    "    test_idx = np.random.randint(y_data.shape[0], size=int(y_data.shape[0] * 0.2))\n",
    "\n",
    "    x_training, x_test = x_data[training_idx,:], x_data[test_idx,:]\n",
    "    y_training, y_test = y_data[training_idx,:], y_data[test_idx,:]\n",
    "    \n",
    "    logreg.fit(x_training, y_training.ravel())\n",
    "    prediction_result.append(sum(logreg.predict(x_test) == y_test.ravel())  / y_test.shape[0])\n",
    "    \n",
    "np.mean(prediction_result)"
   ]
  },
  {
   "cell_type": "code",
   "execution_count": 13,
   "metadata": {
    "collapsed": false
   },
   "outputs": [
    {
     "data": {
      "text/plain": [
       "(0.96267146246983093, 0.9744713946730259)"
      ]
     },
     "execution_count": 13,
     "metadata": {},
     "output_type": "execute_result"
    }
   ],
   "source": [
    "max, min = np.mean(prediction_result) + 1.96 * (np.std(prediction_result) /10), \\\n",
    "            np.mean(prediction_result) - 1.96 * (np.std(prediction_result) /10)\n",
    "min, max "
   ]
  },
  {
   "cell_type": "code",
   "execution_count": null,
   "metadata": {
    "collapsed": true
   },
   "outputs": [],
   "source": []
  }
 ],
 "metadata": {
  "kernelspec": {
   "display_name": "Python 3",
   "language": "python",
   "name": "python3"
  },
  "language_info": {
   "codemirror_mode": {
    "name": "ipython",
    "version": 3
   },
   "file_extension": ".py",
   "mimetype": "text/x-python",
   "name": "python",
   "nbconvert_exporter": "python",
   "pygments_lexer": "ipython3",
   "version": "3.4.5"
  }
 },
 "nbformat": 4,
 "nbformat_minor": 0
}
