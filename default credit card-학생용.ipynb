{
 "cells": [
  {
   "cell_type": "code",
   "execution_count": 1,
   "metadata": {
    "collapsed": true
   },
   "outputs": [],
   "source": [
    "from pandas import DataFrame\n",
    "import pandas as pd\n",
    "import numpy as np\n",
    "import matplotlib.pyplot as plt\n",
    "from sklearn.cross_validation import KFold\n",
    "from sklearn.ensemble import RandomForestClassifier\n",
    "from sklearn.ensemble import VotingClassifier\n",
    "from sklearn.linear_model import LogisticRegression\n",
    "from sklearn.naive_bayes import GaussianNB\n",
    "\n",
    "from sklearn import metrics\n",
    "from sklearn.grid_search import GridSearchCV\n",
    "%matplotlib inline"
   ]
  },
  {
   "cell_type": "markdown",
   "metadata": {},
   "source": [
    "### Step 1 : 데이터 불러오기"
   ]
  },
  {
   "cell_type": "code",
   "execution_count": 122,
   "metadata": {
    "collapsed": false
   },
   "outputs": [],
   "source": [
    "data = pd.read_csv('Default_Clients_Train.csv')"
   ]
  },
  {
   "cell_type": "code",
   "execution_count": 123,
   "metadata": {
    "collapsed": false
   },
   "outputs": [
    {
     "data": {
      "text/html": [
       "<div>\n",
       "<table border=\"1\" class=\"dataframe\">\n",
       "  <thead>\n",
       "    <tr style=\"text-align: right;\">\n",
       "      <th></th>\n",
       "      <th>ID</th>\n",
       "      <th>LIMIT_BAL</th>\n",
       "      <th>SEX</th>\n",
       "      <th>EDUCATION</th>\n",
       "      <th>MARRIAGE</th>\n",
       "      <th>AGE</th>\n",
       "      <th>PAY_0</th>\n",
       "      <th>PAY_2</th>\n",
       "      <th>PAY_3</th>\n",
       "      <th>PAY_4</th>\n",
       "      <th>...</th>\n",
       "      <th>BILL_AMT4</th>\n",
       "      <th>BILL_AMT5</th>\n",
       "      <th>BILL_AMT6</th>\n",
       "      <th>PAY_AMT1</th>\n",
       "      <th>PAY_AMT2</th>\n",
       "      <th>PAY_AMT3</th>\n",
       "      <th>PAY_AMT4</th>\n",
       "      <th>PAY_AMT5</th>\n",
       "      <th>PAY_AMT6</th>\n",
       "      <th>default payment next month</th>\n",
       "    </tr>\n",
       "  </thead>\n",
       "  <tbody>\n",
       "    <tr>\n",
       "      <th>0</th>\n",
       "      <td>2309</td>\n",
       "      <td>30000</td>\n",
       "      <td>1</td>\n",
       "      <td>2</td>\n",
       "      <td>2</td>\n",
       "      <td>25</td>\n",
       "      <td>0</td>\n",
       "      <td>0</td>\n",
       "      <td>0</td>\n",
       "      <td>0</td>\n",
       "      <td>...</td>\n",
       "      <td>12580</td>\n",
       "      <td>13716</td>\n",
       "      <td>14828</td>\n",
       "      <td>1500</td>\n",
       "      <td>2000</td>\n",
       "      <td>1500</td>\n",
       "      <td>1500</td>\n",
       "      <td>1500</td>\n",
       "      <td>2000</td>\n",
       "      <td>0</td>\n",
       "    </tr>\n",
       "    <tr>\n",
       "      <th>1</th>\n",
       "      <td>22405</td>\n",
       "      <td>150000</td>\n",
       "      <td>2</td>\n",
       "      <td>1</td>\n",
       "      <td>2</td>\n",
       "      <td>26</td>\n",
       "      <td>0</td>\n",
       "      <td>0</td>\n",
       "      <td>0</td>\n",
       "      <td>0</td>\n",
       "      <td>...</td>\n",
       "      <td>101581</td>\n",
       "      <td>77741</td>\n",
       "      <td>77264</td>\n",
       "      <td>4486</td>\n",
       "      <td>4235</td>\n",
       "      <td>3161</td>\n",
       "      <td>2647</td>\n",
       "      <td>2669</td>\n",
       "      <td>2669</td>\n",
       "      <td>0</td>\n",
       "    </tr>\n",
       "    <tr>\n",
       "      <th>2</th>\n",
       "      <td>23398</td>\n",
       "      <td>70000</td>\n",
       "      <td>2</td>\n",
       "      <td>3</td>\n",
       "      <td>1</td>\n",
       "      <td>32</td>\n",
       "      <td>0</td>\n",
       "      <td>0</td>\n",
       "      <td>0</td>\n",
       "      <td>0</td>\n",
       "      <td>...</td>\n",
       "      <td>69753</td>\n",
       "      <td>70111</td>\n",
       "      <td>70212</td>\n",
       "      <td>2431</td>\n",
       "      <td>3112</td>\n",
       "      <td>3000</td>\n",
       "      <td>2438</td>\n",
       "      <td>2500</td>\n",
       "      <td>2554</td>\n",
       "      <td>0</td>\n",
       "    </tr>\n",
       "    <tr>\n",
       "      <th>3</th>\n",
       "      <td>25059</td>\n",
       "      <td>130000</td>\n",
       "      <td>1</td>\n",
       "      <td>3</td>\n",
       "      <td>2</td>\n",
       "      <td>49</td>\n",
       "      <td>0</td>\n",
       "      <td>0</td>\n",
       "      <td>0</td>\n",
       "      <td>0</td>\n",
       "      <td>...</td>\n",
       "      <td>16898</td>\n",
       "      <td>11236</td>\n",
       "      <td>6944</td>\n",
       "      <td>1610</td>\n",
       "      <td>1808</td>\n",
       "      <td>7014</td>\n",
       "      <td>27</td>\n",
       "      <td>7011</td>\n",
       "      <td>4408</td>\n",
       "      <td>0</td>\n",
       "    </tr>\n",
       "    <tr>\n",
       "      <th>4</th>\n",
       "      <td>2665</td>\n",
       "      <td>50000</td>\n",
       "      <td>2</td>\n",
       "      <td>2</td>\n",
       "      <td>2</td>\n",
       "      <td>36</td>\n",
       "      <td>0</td>\n",
       "      <td>0</td>\n",
       "      <td>0</td>\n",
       "      <td>0</td>\n",
       "      <td>...</td>\n",
       "      <td>19574</td>\n",
       "      <td>20295</td>\n",
       "      <td>19439</td>\n",
       "      <td>2000</td>\n",
       "      <td>1500</td>\n",
       "      <td>1000</td>\n",
       "      <td>1800</td>\n",
       "      <td>0</td>\n",
       "      <td>1000</td>\n",
       "      <td>1</td>\n",
       "    </tr>\n",
       "  </tbody>\n",
       "</table>\n",
       "<p>5 rows × 25 columns</p>\n",
       "</div>"
      ],
      "text/plain": [
       "      ID  LIMIT_BAL  SEX  EDUCATION  MARRIAGE  AGE  PAY_0  PAY_2  PAY_3  \\\n",
       "0   2309      30000    1          2         2   25      0      0      0   \n",
       "1  22405     150000    2          1         2   26      0      0      0   \n",
       "2  23398      70000    2          3         1   32      0      0      0   \n",
       "3  25059     130000    1          3         2   49      0      0      0   \n",
       "4   2665      50000    2          2         2   36      0      0      0   \n",
       "\n",
       "   PAY_4             ...              BILL_AMT4  BILL_AMT5  BILL_AMT6  \\\n",
       "0      0             ...                  12580      13716      14828   \n",
       "1      0             ...                 101581      77741      77264   \n",
       "2      0             ...                  69753      70111      70212   \n",
       "3      0             ...                  16898      11236       6944   \n",
       "4      0             ...                  19574      20295      19439   \n",
       "\n",
       "   PAY_AMT1  PAY_AMT2  PAY_AMT3  PAY_AMT4  PAY_AMT5  PAY_AMT6  \\\n",
       "0      1500      2000      1500      1500      1500      2000   \n",
       "1      4486      4235      3161      2647      2669      2669   \n",
       "2      2431      3112      3000      2438      2500      2554   \n",
       "3      1610      1808      7014        27      7011      4408   \n",
       "4      2000      1500      1000      1800         0      1000   \n",
       "\n",
       "   default payment next month  \n",
       "0                           0  \n",
       "1                           0  \n",
       "2                           0  \n",
       "3                           0  \n",
       "4                           1  \n",
       "\n",
       "[5 rows x 25 columns]"
      ]
     },
     "execution_count": 123,
     "metadata": {},
     "output_type": "execute_result"
    }
   ],
   "source": [
    "data.head()"
   ]
  },
  {
   "cell_type": "code",
   "execution_count": 4,
   "metadata": {
    "collapsed": false
   },
   "outputs": [
    {
     "data": {
      "text/plain": [
       "(24000, 25)"
      ]
     },
     "execution_count": 4,
     "metadata": {},
     "output_type": "execute_result"
    }
   ],
   "source": [
    "data.shape"
   ]
  },
  {
   "cell_type": "code",
   "execution_count": 124,
   "metadata": {
    "collapsed": true
   },
   "outputs": [],
   "source": [
    "# default payment next month 라는 column 이름을 default로 바꿈\n",
    "data = data.rename(columns={ 'default payment next month' : 'default'})"
   ]
  },
  {
   "cell_type": "code",
   "execution_count": 46,
   "metadata": {
    "collapsed": false
   },
   "outputs": [],
   "source": [
    "data_test = data_test.rename(columns={ 'default payment next month' : 'default'})"
   ]
  },
  {
   "cell_type": "markdown",
   "metadata": {},
   "source": [
    "### Baseline Model"
   ]
  },
  {
   "cell_type": "markdown",
   "metadata": {},
   "source": [
    "아무 Feature Engineering 없이 RandomForest Model 을 활용"
   ]
  },
  {
   "cell_type": "code",
   "execution_count": 6,
   "metadata": {
    "collapsed": false
   },
   "outputs": [],
   "source": [
    "df = data.drop('ID', axis = 1) # ID 열을 제거\n",
    "df = pd.get_dummies(df, columns=['SEX','EDUCATION','MARRIAGE'], drop_first = True) # Gender, Education, Martial status -> dummy 변수\n",
    "X = np.array(df.drop('default', axis = 1))\n",
    "y = np.array(df['default'])"
   ]
  },
  {
   "cell_type": "code",
   "execution_count": 7,
   "metadata": {
    "collapsed": false
   },
   "outputs": [
    {
     "data": {
      "text/plain": [
       "RandomForestClassifier(bootstrap=True, class_weight=None, criterion='gini',\n",
       "            max_depth=None, max_features='auto', max_leaf_nodes=None,\n",
       "            min_samples_leaf=1, min_samples_split=2,\n",
       "            min_weight_fraction_leaf=0.0, n_estimators=10, n_jobs=1,\n",
       "            oob_score=False, random_state=None, verbose=0,\n",
       "            warm_start=False)"
      ]
     },
     "execution_count": 7,
     "metadata": {},
     "output_type": "execute_result"
    }
   ],
   "source": [
    "clf = RandomForestClassifier(n_estimators=10)\n",
    "clf.fit(X, y)"
   ]
  },
  {
   "cell_type": "code",
   "execution_count": null,
   "metadata": {
    "collapsed": true
   },
   "outputs": [],
   "source": [
    "?RandomForestClassifier \n",
    "# 패키지에 관한 설"
   ]
  },
  {
   "cell_type": "code",
   "execution_count": null,
   "metadata": {
    "collapsed": true
   },
   "outputs": [],
   "source": [
    "?metrics.f1_score"
   ]
  },
  {
   "cell_type": "code",
   "execution_count": 8,
   "metadata": {
    "collapsed": false
   },
   "outputs": [
    {
     "name": "stdout",
     "output_type": "stream",
     "text": [
      "CPU times: user 1min 5s, sys: 228 ms, total: 1min 5s\n",
      "Wall time: 24 s\n"
     ]
    }
   ],
   "source": [
    "%%time\n",
    "# 10-fold cross validation 을 통해 최적의 n_estimators를 찾으시오 (10, 50, 100, 150, 200 중)\n",
    "from sklearn.linear_model import LinearRegression\n",
    "kf = KFold(X.shape[0], n_folds=10, random_state=42)\n",
    "\n",
    "##code here\n",
    "f1_mean = []\n",
    "for i in [10,20,30]:\n",
    "   f1_score = []\n",
    "   for train_idx, test_idx in kf:\n",
    "       X_train, X_test, y_train, y_test = X[train_idx], X[test_idx], y[train_idx], y[test_idx]\n",
    "       clf = RandomForestClassifier(n_estimators=i, n_jobs=-1)\n",
    "       clf.fit(X_train, y_train)\n",
    "       f1_score.append(metrics.f1_score(y_test, clf.predict(X_test)))\n",
    "   f1_mean.append(f1_score)"
   ]
  },
  {
   "cell_type": "code",
   "execution_count": 9,
   "metadata": {
    "collapsed": false
   },
   "outputs": [
    {
     "data": {
      "text/plain": [
       "[[0.42802547770700633,\n",
       "  0.43966547192353644,\n",
       "  0.39466666666666667,\n",
       "  0.43498817966903075,\n",
       "  0.44864226682408498,\n",
       "  0.43126684636118606,\n",
       "  0.43167305236270753,\n",
       "  0.40694789081885852,\n",
       "  0.45549132947976878,\n",
       "  0.43095238095238092],\n",
       " [0.45679012345679015,\n",
       "  0.44522968197879864,\n",
       "  0.41787122207621546,\n",
       "  0.44705882352941179,\n",
       "  0.47276940903823872,\n",
       "  0.49282920469361152,\n",
       "  0.47420147420147424,\n",
       "  0.43414634146341458,\n",
       "  0.48797250859106533,\n",
       "  0.48118586088939558],\n",
       " [0.47394540942928032,\n",
       "  0.47795823665893278,\n",
       "  0.39892183288409711,\n",
       "  0.47113163972286382,\n",
       "  0.48498845265588908,\n",
       "  0.47167325428194995,\n",
       "  0.47911547911547908,\n",
       "  0.41749999999999998,\n",
       "  0.48471121177802939,\n",
       "  0.48139534883720925]]"
      ]
     },
     "execution_count": 9,
     "metadata": {},
     "output_type": "execute_result"
    }
   ],
   "source": [
    "f1_mean"
   ]
  },
  {
   "cell_type": "code",
   "execution_count": 10,
   "metadata": {
    "collapsed": false
   },
   "outputs": [
    {
     "data": {
      "image/png": "[encoded data removed]",
      "text/plain": [
       "<matplotlib.figure.Figure at 0x7f8866c3d1d0>"
      ]
     },
     "metadata": {},
     "output_type": "display_data"
    }
   ],
   "source": [
    "# Create a figure instance\n",
    "fig = plt.figure(figsize=(9, 6))\n",
    "\n",
    "# Create an axes instance\n",
    "ax = fig.add_subplot(111)\n",
    "\n",
    "# Create the boxplot\n",
    "bp = ax.boxplot(f1_mean)\n",
    "# ax.set_xticklabels(est_lst)"
   ]
  },
  {
   "cell_type": "markdown",
   "metadata": {},
   "source": [
    "### Step 1 : 데이터 탐색(Exploratory Data Analysis)"
   ]
  },
  {
   "cell_type": "code",
   "execution_count": 11,
   "metadata": {
    "collapsed": false
   },
   "outputs": [
    {
     "data": {
      "text/plain": [
       "Index(['LIMIT_BAL', 'AGE', 'PAY_0', 'PAY_2', 'PAY_3', 'PAY_4', 'PAY_5',\n",
       "       'PAY_6', 'BILL_AMT1', 'BILL_AMT2', 'BILL_AMT3', 'BILL_AMT4',\n",
       "       'BILL_AMT5', 'BILL_AMT6', 'PAY_AMT1', 'PAY_AMT2', 'PAY_AMT3',\n",
       "       'PAY_AMT4', 'PAY_AMT5', 'PAY_AMT6', 'default', 'SEX_2', 'EDUCATION_1',\n",
       "       'EDUCATION_2', 'EDUCATION_3', 'EDUCATION_4', 'EDUCATION_5',\n",
       "       'EDUCATION_6', 'MARRIAGE_1', 'MARRIAGE_2', 'MARRIAGE_3'],\n",
       "      dtype='object')"
      ]
     },
     "execution_count": 11,
     "metadata": {},
     "output_type": "execute_result"
    }
   ],
   "source": [
    "df.columns"
   ]
  },
  {
   "cell_type": "code",
   "execution_count": 12,
   "metadata": {
    "collapsed": false
   },
   "outputs": [
    {
     "data": {
      "text/html": [
       "<div>\n",
       "<table border=\"1\" class=\"dataframe\">\n",
       "  <thead>\n",
       "    <tr style=\"text-align: right;\">\n",
       "      <th></th>\n",
       "      <th>LIMIT_BAL</th>\n",
       "      <th>AGE</th>\n",
       "      <th>PAY_0</th>\n",
       "      <th>PAY_2</th>\n",
       "      <th>PAY_3</th>\n",
       "      <th>PAY_4</th>\n",
       "      <th>PAY_5</th>\n",
       "      <th>PAY_6</th>\n",
       "      <th>BILL_AMT1</th>\n",
       "      <th>BILL_AMT2</th>\n",
       "      <th>...</th>\n",
       "      <th>SEX_2</th>\n",
       "      <th>EDUCATION_1</th>\n",
       "      <th>EDUCATION_2</th>\n",
       "      <th>EDUCATION_3</th>\n",
       "      <th>EDUCATION_4</th>\n",
       "      <th>EDUCATION_5</th>\n",
       "      <th>EDUCATION_6</th>\n",
       "      <th>MARRIAGE_1</th>\n",
       "      <th>MARRIAGE_2</th>\n",
       "      <th>MARRIAGE_3</th>\n",
       "    </tr>\n",
       "  </thead>\n",
       "  <tbody>\n",
       "    <tr>\n",
       "      <th>count</th>\n",
       "      <td>24000.000000</td>\n",
       "      <td>24000.000000</td>\n",
       "      <td>24000.000000</td>\n",
       "      <td>24000.000000</td>\n",
       "      <td>24000.000000</td>\n",
       "      <td>24000.000000</td>\n",
       "      <td>24000.000000</td>\n",
       "      <td>24000.000000</td>\n",
       "      <td>24000.000000</td>\n",
       "      <td>24000.000000</td>\n",
       "      <td>...</td>\n",
       "      <td>24000.000000</td>\n",
       "      <td>24000.000000</td>\n",
       "      <td>24000.000000</td>\n",
       "      <td>24000.000000</td>\n",
       "      <td>24000.000000</td>\n",
       "      <td>24000.000000</td>\n",
       "      <td>24000.000000</td>\n",
       "      <td>24000.000000</td>\n",
       "      <td>24000.000000</td>\n",
       "      <td>24000.000000</td>\n",
       "    </tr>\n",
       "    <tr>\n",
       "      <th>mean</th>\n",
       "      <td>167381.403333</td>\n",
       "      <td>35.491208</td>\n",
       "      <td>-0.024083</td>\n",
       "      <td>-0.139917</td>\n",
       "      <td>-0.168583</td>\n",
       "      <td>-0.221250</td>\n",
       "      <td>-0.266500</td>\n",
       "      <td>-0.291000</td>\n",
       "      <td>51210.870458</td>\n",
       "      <td>49089.304625</td>\n",
       "      <td>...</td>\n",
       "      <td>0.602667</td>\n",
       "      <td>0.352542</td>\n",
       "      <td>0.467208</td>\n",
       "      <td>0.164917</td>\n",
       "      <td>0.003917</td>\n",
       "      <td>0.009333</td>\n",
       "      <td>0.001583</td>\n",
       "      <td>0.451792</td>\n",
       "      <td>0.535500</td>\n",
       "      <td>0.010833</td>\n",
       "    </tr>\n",
       "    <tr>\n",
       "      <th>std</th>\n",
       "      <td>129712.749183</td>\n",
       "      <td>9.220582</td>\n",
       "      <td>1.118059</td>\n",
       "      <td>1.191490</td>\n",
       "      <td>1.200058</td>\n",
       "      <td>1.174424</td>\n",
       "      <td>1.138031</td>\n",
       "      <td>1.153419</td>\n",
       "      <td>73789.171737</td>\n",
       "      <td>71304.728460</td>\n",
       "      <td>...</td>\n",
       "      <td>0.489356</td>\n",
       "      <td>0.477771</td>\n",
       "      <td>0.498934</td>\n",
       "      <td>0.371113</td>\n",
       "      <td>0.062462</td>\n",
       "      <td>0.096159</td>\n",
       "      <td>0.039760</td>\n",
       "      <td>0.497681</td>\n",
       "      <td>0.498749</td>\n",
       "      <td>0.103520</td>\n",
       "    </tr>\n",
       "    <tr>\n",
       "      <th>min</th>\n",
       "      <td>10000.000000</td>\n",
       "      <td>21.000000</td>\n",
       "      <td>-2.000000</td>\n",
       "      <td>-2.000000</td>\n",
       "      <td>-2.000000</td>\n",
       "      <td>-2.000000</td>\n",
       "      <td>-2.000000</td>\n",
       "      <td>-2.000000</td>\n",
       "      <td>-15308.000000</td>\n",
       "      <td>-33350.000000</td>\n",
       "      <td>...</td>\n",
       "      <td>0.000000</td>\n",
       "      <td>0.000000</td>\n",
       "      <td>0.000000</td>\n",
       "      <td>0.000000</td>\n",
       "      <td>0.000000</td>\n",
       "      <td>0.000000</td>\n",
       "      <td>0.000000</td>\n",
       "      <td>0.000000</td>\n",
       "      <td>0.000000</td>\n",
       "      <td>0.000000</td>\n",
       "    </tr>\n",
       "    <tr>\n",
       "      <th>25%</th>\n",
       "      <td>50000.000000</td>\n",
       "      <td>28.000000</td>\n",
       "      <td>-1.000000</td>\n",
       "      <td>-1.000000</td>\n",
       "      <td>-1.000000</td>\n",
       "      <td>-1.000000</td>\n",
       "      <td>-1.000000</td>\n",
       "      <td>-1.000000</td>\n",
       "      <td>3593.500000</td>\n",
       "      <td>2999.750000</td>\n",
       "      <td>...</td>\n",
       "      <td>0.000000</td>\n",
       "      <td>0.000000</td>\n",
       "      <td>0.000000</td>\n",
       "      <td>0.000000</td>\n",
       "      <td>0.000000</td>\n",
       "      <td>0.000000</td>\n",
       "      <td>0.000000</td>\n",
       "      <td>0.000000</td>\n",
       "      <td>0.000000</td>\n",
       "      <td>0.000000</td>\n",
       "    </tr>\n",
       "    <tr>\n",
       "      <th>50%</th>\n",
       "      <td>140000.000000</td>\n",
       "      <td>34.000000</td>\n",
       "      <td>0.000000</td>\n",
       "      <td>0.000000</td>\n",
       "      <td>0.000000</td>\n",
       "      <td>0.000000</td>\n",
       "      <td>0.000000</td>\n",
       "      <td>0.000000</td>\n",
       "      <td>22324.000000</td>\n",
       "      <td>21129.500000</td>\n",
       "      <td>...</td>\n",
       "      <td>1.000000</td>\n",
       "      <td>0.000000</td>\n",
       "      <td>0.000000</td>\n",
       "      <td>0.000000</td>\n",
       "      <td>0.000000</td>\n",
       "      <td>0.000000</td>\n",
       "      <td>0.000000</td>\n",
       "      <td>0.000000</td>\n",
       "      <td>1.000000</td>\n",
       "      <td>0.000000</td>\n",
       "    </tr>\n",
       "    <tr>\n",
       "      <th>75%</th>\n",
       "      <td>240000.000000</td>\n",
       "      <td>41.000000</td>\n",
       "      <td>0.000000</td>\n",
       "      <td>0.000000</td>\n",
       "      <td>0.000000</td>\n",
       "      <td>0.000000</td>\n",
       "      <td>0.000000</td>\n",
       "      <td>0.000000</td>\n",
       "      <td>67012.750000</td>\n",
       "      <td>63832.250000</td>\n",
       "      <td>...</td>\n",
       "      <td>1.000000</td>\n",
       "      <td>1.000000</td>\n",
       "      <td>1.000000</td>\n",
       "      <td>0.000000</td>\n",
       "      <td>0.000000</td>\n",
       "      <td>0.000000</td>\n",
       "      <td>0.000000</td>\n",
       "      <td>1.000000</td>\n",
       "      <td>1.000000</td>\n",
       "      <td>0.000000</td>\n",
       "    </tr>\n",
       "    <tr>\n",
       "      <th>max</th>\n",
       "      <td>1000000.000000</td>\n",
       "      <td>79.000000</td>\n",
       "      <td>8.000000</td>\n",
       "      <td>8.000000</td>\n",
       "      <td>8.000000</td>\n",
       "      <td>8.000000</td>\n",
       "      <td>8.000000</td>\n",
       "      <td>8.000000</td>\n",
       "      <td>964511.000000</td>\n",
       "      <td>983931.000000</td>\n",
       "      <td>...</td>\n",
       "      <td>1.000000</td>\n",
       "      <td>1.000000</td>\n",
       "      <td>1.000000</td>\n",
       "      <td>1.000000</td>\n",
       "      <td>1.000000</td>\n",
       "      <td>1.000000</td>\n",
       "      <td>1.000000</td>\n",
       "      <td>1.000000</td>\n",
       "      <td>1.000000</td>\n",
       "      <td>1.000000</td>\n",
       "    </tr>\n",
       "  </tbody>\n",
       "</table>\n",
       "<p>8 rows × 31 columns</p>\n",
       "</div>"
      ],
      "text/plain": [
       "            LIMIT_BAL           AGE         PAY_0         PAY_2         PAY_3  \\\n",
       "count    24000.000000  24000.000000  24000.000000  24000.000000  24000.000000   \n",
       "mean    167381.403333     35.491208     -0.024083     -0.139917     -0.168583   \n",
       "std     129712.749183      9.220582      1.118059      1.191490      1.200058   \n",
       "min      10000.000000     21.000000     -2.000000     -2.000000     -2.000000   \n",
       "25%      50000.000000     28.000000     -1.000000     -1.000000     -1.000000   \n",
       "50%     140000.000000     34.000000      0.000000      0.000000      0.000000   \n",
       "75%     240000.000000     41.000000      0.000000      0.000000      0.000000   \n",
       "max    1000000.000000     79.000000      8.000000      8.000000      8.000000   \n",
       "\n",
       "              PAY_4         PAY_5         PAY_6      BILL_AMT1      BILL_AMT2  \\\n",
       "count  24000.000000  24000.000000  24000.000000   24000.000000   24000.000000   \n",
       "mean      -0.221250     -0.266500     -0.291000   51210.870458   49089.304625   \n",
       "std        1.174424      1.138031      1.153419   73789.171737   71304.728460   \n",
       "min       -2.000000     -2.000000     -2.000000  -15308.000000  -33350.000000   \n",
       "25%       -1.000000     -1.000000     -1.000000    3593.500000    2999.750000   \n",
       "50%        0.000000      0.000000      0.000000   22324.000000   21129.500000   \n",
       "75%        0.000000      0.000000      0.000000   67012.750000   63832.250000   \n",
       "max        8.000000      8.000000      8.000000  964511.000000  983931.000000   \n",
       "\n",
       "           ...              SEX_2   EDUCATION_1   EDUCATION_2   EDUCATION_3  \\\n",
       "count      ...       24000.000000  24000.000000  24000.000000  24000.000000   \n",
       "mean       ...           0.602667      0.352542      0.467208      0.164917   \n",
       "std        ...           0.489356      0.477771      0.498934      0.371113   \n",
       "min        ...           0.000000      0.000000      0.000000      0.000000   \n",
       "25%        ...           0.000000      0.000000      0.000000      0.000000   \n",
       "50%        ...           1.000000      0.000000      0.000000      0.000000   \n",
       "75%        ...           1.000000      1.000000      1.000000      0.000000   \n",
       "max        ...           1.000000      1.000000      1.000000      1.000000   \n",
       "\n",
       "        EDUCATION_4   EDUCATION_5   EDUCATION_6    MARRIAGE_1    MARRIAGE_2  \\\n",
       "count  24000.000000  24000.000000  24000.000000  24000.000000  24000.000000   \n",
       "mean       0.003917      0.009333      0.001583      0.451792      0.535500   \n",
       "std        0.062462      0.096159      0.039760      0.497681      0.498749   \n",
       "min        0.000000      0.000000      0.000000      0.000000      0.000000   \n",
       "25%        0.000000      0.000000      0.000000      0.000000      0.000000   \n",
       "50%        0.000000      0.000000      0.000000      0.000000      1.000000   \n",
       "75%        0.000000      0.000000      0.000000      1.000000      1.000000   \n",
       "max        1.000000      1.000000      1.000000      1.000000      1.000000   \n",
       "\n",
       "         MARRIAGE_3  \n",
       "count  24000.000000  \n",
       "mean       0.010833  \n",
       "std        0.103520  \n",
       "min        0.000000  \n",
       "25%        0.000000  \n",
       "50%        0.000000  \n",
       "75%        0.000000  \n",
       "max        1.000000  \n",
       "\n",
       "[8 rows x 31 columns]"
      ]
     },
     "execution_count": 12,
     "metadata": {},
     "output_type": "execute_result"
    }
   ],
   "source": [
    "df.describe()"
   ]
  },
  {
   "cell_type": "code",
   "execution_count": 13,
   "metadata": {
    "collapsed": false
   },
   "outputs": [],
   "source": [
    "#Grouping\n",
    "grouped = data['default'].groupby(data['MARRIAGE'])"
   ]
  },
  {
   "cell_type": "code",
   "execution_count": 14,
   "metadata": {
    "collapsed": false
   },
   "outputs": [
    {
     "data": {
      "text/plain": [
       "MARRIAGE\n",
       "0    0.088889\n",
       "1    0.234437\n",
       "2    0.209384\n",
       "3    0.261538\n",
       "Name: default, dtype: float64"
      ]
     },
     "execution_count": 14,
     "metadata": {},
     "output_type": "execute_result"
    }
   ],
   "source": [
    "grouped.mean()"
   ]
  },
  {
   "cell_type": "code",
   "execution_count": 15,
   "metadata": {
    "collapsed": false
   },
   "outputs": [
    {
     "data": {
      "text/plain": [
       "<matplotlib.text.Text at 0x7f8866b059b0>"
      ]
     },
     "execution_count": 15,
     "metadata": {},
     "output_type": "execute_result"
    },
    {
     "data": {
      "image/png": "[encoded data removed]",
      "text/plain": [
       "<matplotlib.figure.Figure at 0x7f8866acd278>"
      ]
     },
     "metadata": {},
     "output_type": "display_data"
    }
   ],
   "source": [
    "# 결혼 여부에 따른 deafult 여부\n",
    "plt.rcParams['figure.figsize'] = (8, 8)\n",
    "\n",
    "accuracyVec = np.array(grouped.mean())\n",
    "\n",
    "barWidth = 0.7\n",
    "xLocations = np.arange(len(accuracyVec))\n",
    "\n",
    "fig, ax = plt.subplots()\n",
    "\n",
    "ax.bar(xLocations, accuracyVec, barWidth, color='b') #각 값의 위치, 해당 위치의 값, 폭, 색깔\n",
    "ax.set_xticks(xLocations + 0.5*barWidth)\n",
    "ax.set_xticklabels(('Marriage_0', 'Marriage_1', 'Marriage_2','Marriage_3'))\n",
    "plt.title('average accuracy by type')"
   ]
  },
  {
   "cell_type": "code",
   "execution_count": 16,
   "metadata": {
    "collapsed": false
   },
   "outputs": [
    {
     "data": {
      "text/plain": [
       "EDUCATION\n",
       "0    0.000000\n",
       "1    0.194067\n",
       "2    0.236065\n",
       "3    0.249874\n",
       "4    0.053191\n",
       "5    0.066964\n",
       "6    0.184211\n",
       "Name: default, dtype: float64"
      ]
     },
     "execution_count": 16,
     "metadata": {},
     "output_type": "execute_result"
    }
   ],
   "source": [
    "#Education에 따른 defalut 비율을 계산하시오\n",
    "\n",
    "##code here:\n",
    "grouped = data['default'].groupby(data['EDUCATION'])\n",
    "grouped.mean()\n",
    "\n",
    "\n"
   ]
  },
  {
   "cell_type": "code",
   "execution_count": 17,
   "metadata": {
    "collapsed": false
   },
   "outputs": [
    {
     "data": {
      "text/plain": [
       "<matplotlib.text.Text at 0x7f8876fc93c8>"
      ]
     },
     "execution_count": 17,
     "metadata": {},
     "output_type": "execute_result"
    },
    {
     "data": {
      "image/png": "[encoded data removed]",
      "text/plain": [
       "<matplotlib.figure.Figure at 0x7f8866afe6d8>"
      ]
     },
     "metadata": {},
     "output_type": "display_data"
    }
   ],
   "source": [
    "plt.rcParams['figure.figsize'] = (8, 8)\n",
    "\n",
    "accuracyVec = np.array(grouped.mean())\n",
    "\n",
    "barWidth = 0.7\n",
    "xLocations = np.arange(len(accuracyVec))\n",
    "\n",
    "fig, ax = plt.subplots()\n",
    "\n",
    "ax.bar(xLocations, accuracyVec, barWidth, color='b')\n",
    "ax.set_xticks(xLocations+0.5*barWidth)\n",
    "ax.set_xticklabels(('Edu0', 'Edu1', 'Edu2','Edu3','Edu4','Edu5','Edu6'))\n",
    "plt.title('average accuracy by type')"
   ]
  },
  {
   "cell_type": "markdown",
   "metadata": {},
   "source": [
    "##### default인 사람과 그렇지 않은 사람들의 집단 비교"
   ]
  },
  {
   "cell_type": "code",
   "execution_count": 18,
   "metadata": {
    "collapsed": false
   },
   "outputs": [],
   "source": [
    "mean_df = data.groupby('default').mean()"
   ]
  },
  {
   "cell_type": "code",
   "execution_count": 19,
   "metadata": {
    "collapsed": false
   },
   "outputs": [
    {
     "data": {
      "text/html": [
       "<div>\n",
       "<table border=\"1\" class=\"dataframe\">\n",
       "  <thead>\n",
       "    <tr style=\"text-align: right;\">\n",
       "      <th></th>\n",
       "      <th>ID</th>\n",
       "      <th>LIMIT_BAL</th>\n",
       "      <th>SEX</th>\n",
       "      <th>EDUCATION</th>\n",
       "      <th>MARRIAGE</th>\n",
       "      <th>AGE</th>\n",
       "      <th>PAY_0</th>\n",
       "      <th>PAY_2</th>\n",
       "      <th>PAY_3</th>\n",
       "      <th>PAY_4</th>\n",
       "      <th>...</th>\n",
       "      <th>BILL_AMT3</th>\n",
       "      <th>BILL_AMT4</th>\n",
       "      <th>BILL_AMT5</th>\n",
       "      <th>BILL_AMT6</th>\n",
       "      <th>PAY_AMT1</th>\n",
       "      <th>PAY_AMT2</th>\n",
       "      <th>PAY_AMT3</th>\n",
       "      <th>PAY_AMT4</th>\n",
       "      <th>PAY_AMT5</th>\n",
       "      <th>PAY_AMT6</th>\n",
       "    </tr>\n",
       "    <tr>\n",
       "      <th>default</th>\n",
       "      <th></th>\n",
       "      <th></th>\n",
       "      <th></th>\n",
       "      <th></th>\n",
       "      <th></th>\n",
       "      <th></th>\n",
       "      <th></th>\n",
       "      <th></th>\n",
       "      <th></th>\n",
       "      <th></th>\n",
       "      <th></th>\n",
       "      <th></th>\n",
       "      <th></th>\n",
       "      <th></th>\n",
       "      <th></th>\n",
       "      <th></th>\n",
       "      <th></th>\n",
       "      <th></th>\n",
       "      <th></th>\n",
       "      <th></th>\n",
       "      <th></th>\n",
       "    </tr>\n",
       "  </thead>\n",
       "  <tbody>\n",
       "    <tr>\n",
       "      <th>0</th>\n",
       "      <td>15002.345279</td>\n",
       "      <td>177734.474458</td>\n",
       "      <td>1.613319</td>\n",
       "      <td>1.842471</td>\n",
       "      <td>1.561861</td>\n",
       "      <td>35.421878</td>\n",
       "      <td>-0.218989</td>\n",
       "      <td>-0.306873</td>\n",
       "      <td>-0.319551</td>\n",
       "      <td>-0.356994</td>\n",
       "      <td>...</td>\n",
       "      <td>47509.627761</td>\n",
       "      <td>43688.595667</td>\n",
       "      <td>40656.249104</td>\n",
       "      <td>39092.847232</td>\n",
       "      <td>6272.025194</td>\n",
       "      <td>6540.071302</td>\n",
       "      <td>5840.686654</td>\n",
       "      <td>5343.864242</td>\n",
       "      <td>5258.579567</td>\n",
       "      <td>5746.244932</td>\n",
       "    </tr>\n",
       "    <tr>\n",
       "      <th>1</th>\n",
       "      <td>14678.580396</td>\n",
       "      <td>130896.829406</td>\n",
       "      <td>1.565127</td>\n",
       "      <td>1.892554</td>\n",
       "      <td>1.532139</td>\n",
       "      <td>35.735533</td>\n",
       "      <td>0.662771</td>\n",
       "      <td>0.448445</td>\n",
       "      <td>0.363431</td>\n",
       "      <td>0.257116</td>\n",
       "      <td>...</td>\n",
       "      <td>44552.223563</td>\n",
       "      <td>41538.328558</td>\n",
       "      <td>38985.510273</td>\n",
       "      <td>37762.871631</td>\n",
       "      <td>3372.748916</td>\n",
       "      <td>3308.808860</td>\n",
       "      <td>3373.902356</td>\n",
       "      <td>3145.779830</td>\n",
       "      <td>3272.702545</td>\n",
       "      <td>3380.963808</td>\n",
       "    </tr>\n",
       "  </tbody>\n",
       "</table>\n",
       "<p>2 rows × 24 columns</p>\n",
       "</div>"
      ],
      "text/plain": [
       "                   ID      LIMIT_BAL       SEX  EDUCATION  MARRIAGE  \\\n",
       "default                                                               \n",
       "0        15002.345279  177734.474458  1.613319   1.842471  1.561861   \n",
       "1        14678.580396  130896.829406  1.565127   1.892554  1.532139   \n",
       "\n",
       "               AGE     PAY_0     PAY_2     PAY_3     PAY_4     ...       \\\n",
       "default                                                        ...        \n",
       "0        35.421878 -0.218989 -0.306873 -0.319551 -0.356994     ...        \n",
       "1        35.735533  0.662771  0.448445  0.363431  0.257116     ...        \n",
       "\n",
       "            BILL_AMT3     BILL_AMT4     BILL_AMT5     BILL_AMT6     PAY_AMT1  \\\n",
       "default                                                                        \n",
       "0        47509.627761  43688.595667  40656.249104  39092.847232  6272.025194   \n",
       "1        44552.223563  41538.328558  38985.510273  37762.871631  3372.748916   \n",
       "\n",
       "            PAY_AMT2     PAY_AMT3     PAY_AMT4     PAY_AMT5     PAY_AMT6  \n",
       "default                                                                   \n",
       "0        6540.071302  5840.686654  5343.864242  5258.579567  5746.244932  \n",
       "1        3308.808860  3373.902356  3145.779830  3272.702545  3380.963808  \n",
       "\n",
       "[2 rows x 24 columns]"
      ]
     },
     "execution_count": 19,
     "metadata": {},
     "output_type": "execute_result"
    }
   ],
   "source": [
    "mean_df"
   ]
  },
  {
   "cell_type": "code",
   "execution_count": 20,
   "metadata": {
    "collapsed": false
   },
   "outputs": [
    {
     "data": {
      "text/plain": [
       "default\n",
       "0    5258.579567\n",
       "1    3272.702545\n",
       "Name: PAY_AMT5, dtype: float64"
      ]
     },
     "execution_count": 20,
     "metadata": {},
     "output_type": "execute_result"
    }
   ],
   "source": [
    "mean_df['PAY_AMT5']"
   ]
  },
  {
   "cell_type": "markdown",
   "metadata": {},
   "source": [
    "### Step 3 : Feature Engineering"
   ]
  },
  {
   "cell_type": "code",
   "execution_count": 125,
   "metadata": {
    "collapsed": false
   },
   "outputs": [],
   "source": [
    "#1) marriage  값이 0이면 1, 아니면 0\n",
    "data['MARRIAGE_zero'] = data['MARRIAGE'].map(lambda x: 1 if x == 0 else 0)##code here"
   ]
  },
  {
   "cell_type": "code",
   "execution_count": 126,
   "metadata": {
    "collapsed": false
   },
   "outputs": [],
   "source": [
    "#education이 0이면 1 아니면 0\n",
    "data['EDU_zero'] = data['EDUCATION'].map(lambda x: 1 if x == 0 else 0)##code here"
   ]
  },
  {
   "cell_type": "code",
   "execution_count": 127,
   "metadata": {
    "collapsed": true
   },
   "outputs": [],
   "source": [
    "#2) PAY_AMT 의 최근 3개월 합\n",
    "data['PAY_AMT_sum'] = data['PAY_AMT6'] + data['PAY_AMT5'] + data['PAY_AMT4']"
   ]
  },
  {
   "cell_type": "code",
   "execution_count": 128,
   "metadata": {
    "collapsed": true
   },
   "outputs": [],
   "source": [
    "df = data.drop('ID', axis = 1) # ID 열을 제거\n",
    "df = pd.get_dummies(df, columns=['SEX','EDUCATION','MARRIAGE'], drop_first = True) # Gender, Education, Martial status -> dummy 변수"
   ]
  },
  {
   "cell_type": "markdown",
   "metadata": {},
   "source": [
    "### Step 4 : Feature Selection"
   ]
  },
  {
   "cell_type": "code",
   "execution_count": 129,
   "metadata": {
    "collapsed": false
   },
   "outputs": [],
   "source": [
    "#(생략)\n",
    "data['PAY_0_SQUARE'] =data['PAY_0'].map(lambda x: x**2)\n",
    "data['PAY_2_SQUARE'] =data['PAY_2'].map(lambda x: x**2)\n",
    "data['PAY_3_SQUARE'] =data['PAY_3'].map(lambda x: x**2)\n",
    "data['PAY_4_SQUARE'] =data['PAY_4'].map(lambda x: x**2)\n",
    "data['PAY_5_SQUARE'] =data['PAY_5'].map(lambda x: x**2)\n",
    "data['PAY_6_SQUARE'] =data['PAY_6'].map(lambda x: x**2)\n",
    "\n",
    "data['PAY_AMT_sum_square'] =data['PAY_AMT_sum'].map(lambda x: x**2) "
   ]
  },
  {
   "cell_type": "code",
   "execution_count": null,
   "metadata": {
    "collapsed": true
   },
   "outputs": [],
   "source": []
  },
  {
   "cell_type": "code",
   "execution_count": 130,
   "metadata": {
    "collapsed": false
   },
   "outputs": [],
   "source": [
    "df = data.drop('ID', axis = 1) # ID 열을 제거\n",
    "df = pd.get_dummies(df, columns=['SEX','EDUCATION','MARRIAGE'], drop_first = True) # Gender, Education, Martial status -> dummy 변수\n",
    "X1 = np.array(df.drop('default', axis = 1))\n",
    "y1 = np.array(df['default'])"
   ]
  },
  {
   "cell_type": "code",
   "execution_count": 131,
   "metadata": {
    "collapsed": false
   },
   "outputs": [
    {
     "data": {
      "text/plain": [
       "(24000, 40)"
      ]
     },
     "execution_count": 131,
     "metadata": {},
     "output_type": "execute_result"
    }
   ],
   "source": [
    "X1.shape"
   ]
  },
  {
   "cell_type": "markdown",
   "metadata": {},
   "source": [
    "### Step 5 : Model Selection"
   ]
  },
  {
   "cell_type": "markdown",
   "metadata": {},
   "source": [
    "##### Step5 1) # Hyper parameter tuning"
   ]
  },
  {
   "cell_type": "code",
   "execution_count": 83,
   "metadata": {
    "collapsed": true
   },
   "outputs": [],
   "source": [
    "import warnings\n",
    "warnings.filterwarnings(\"ignore\")"
   ]
  },
  {
   "cell_type": "code",
   "execution_count": 95,
   "metadata": {
    "collapsed": false,
    "scrolled": true
   },
   "outputs": [
    {
     "name": "stdout",
     "output_type": "stream",
     "text": [
      "0.478569013218\n",
      "{'n_estimators': 200, 'max_features': 'sqrt'}\n",
      "CPU times: user 13.9 s, sys: 92 ms, total: 14 s\n",
      "Wall time: 1min 29s\n"
     ]
    }
   ],
   "source": [
    "%%time\n",
    "rf_grid = GridSearchCV(\n",
    "    estimator = RandomForestClassifier(random_state=42),\n",
    "    param_grid = {\n",
    "        'n_estimators': [100, 200],\n",
    "        'max_features': ['sqrt', 'log2']\n",
    "    }, \n",
    "    cv = 5, #시간 절약을 위해\n",
    "    scoring = 'f1', #f1 score를 기준으로\n",
    "    n_jobs = -1)\n",
    "\n",
    "rf_grid.fit(X1, y1)\n",
    "\n",
    "print(rf_grid.best_score_)\n",
    "print(rf_grid.best_params_)"
   ]
  },
  {
   "cell_type": "code",
   "execution_count": 96,
   "metadata": {
    "collapsed": false
   },
   "outputs": [
    {
     "name": "stdout",
     "output_type": "stream",
     "text": [
      "0.36681677874\n",
      "{'C': 100, 'penalty': 'l1'}\n",
      "CPU times: user 1.39 s, sys: 108 ms, total: 1.5 s\n",
      "Wall time: 18.9 s\n"
     ]
    }
   ],
   "source": [
    "%%time\n",
    "\n",
    "#Logistic Regression의 penalty('l1', 'l2'), C(0.01, 1, 10, 100) 에 대해서 grid search\n",
    "\n",
    "##code here\n",
    "lr_grid = GridSearchCV(estimator = LogisticRegression(), param_grid = {'penalty' : ['l1', 'l2'], 'C' : [0.01, 1, 10, 100]}, cv = 5, scoring = 'f1', n_jobs = -1)\n",
    "\n",
    "lr_grid.fit(X1, y1)\n",
    "\n",
    "\n",
    "\n",
    "\n",
    "\n",
    "\n",
    "\n",
    "\n",
    "\n",
    "print(lr_grid.best_score_)\n",
    "print(lr_grid.best_params_)"
   ]
  },
  {
   "cell_type": "markdown",
   "metadata": {},
   "source": [
    "## Ensemble Models (Voting)"
   ]
  },
  {
   "cell_type": "code",
   "execution_count": 99,
   "metadata": {
    "collapsed": false
   },
   "outputs": [
    {
     "name": "stdout",
     "output_type": "stream",
     "text": [
      "F1_mean : 0.519325539993, F1_std : 0.0227433779883\n"
     ]
    }
   ],
   "source": [
    "clf1 = LogisticRegression(penalty='l1',C=10, random_state=1, n_jobs=-1)\n",
    "clf2 = RandomForestClassifier(random_state=1, n_jobs=-1, n_estimators=200)\n",
    "clf3 = GaussianNB()\n",
    "\n",
    "kf = KFold(X1.shape[0], n_folds=10, random_state=42)\n",
    "\n",
    "f1 = []\n",
    "for train_idx, test_idx in kf:\n",
    "    X_train, X_test, y_train, y_test = X1[train_idx], X1[test_idx], y1[train_idx], y1[test_idx]\n",
    "    eclf = VotingClassifier(estimators=[('lr', clf1), ('rf', clf2), ('gnb', clf3)], voting='soft', weights=[1,1,1])\n",
    "    eclf.fit(X_train, y_train)\n",
    "    f1_score = metrics.f1_score(y_test, eclf.predict(X_test))\n",
    "    f1.append(f1_score)\n",
    "print('F1_mean : %s, F1_std : %s' %(np.mean(f1), np.std(f1)))"
   ]
  },
  {
   "cell_type": "markdown",
   "metadata": {},
   "source": [
    "#### 그리고 최종 모델은 전체 데이터를 모두 활용한다"
   ]
  },
  {
   "cell_type": "code",
   "execution_count": 132,
   "metadata": {
    "collapsed": true
   },
   "outputs": [],
   "source": [
    "ensemble = VotingClassifier(estimators=[('lr', clf1), ('rf', clf2), ('gnb', clf3)], voting='soft', weights=[1,1,1])"
   ]
  },
  {
   "cell_type": "code",
   "execution_count": 133,
   "metadata": {
    "collapsed": false
   },
   "outputs": [
    {
     "data": {
      "text/plain": [
       "(24000, 40)"
      ]
     },
     "execution_count": 133,
     "metadata": {},
     "output_type": "execute_result"
    }
   ],
   "source": [
    "X1.shape"
   ]
  },
  {
   "cell_type": "code",
   "execution_count": 134,
   "metadata": {
    "collapsed": false
   },
   "outputs": [
    {
     "data": {
      "text/plain": [
       "VotingClassifier(estimators=[('lr', LogisticRegression(C=10, class_weight=None, dual=False, fit_intercept=True,\n",
       "          intercept_scaling=1, max_iter=100, multi_class='ovr', n_jobs=-1,\n",
       "          penalty='l1', random_state=1, solver='liblinear', tol=0.0001,\n",
       "          verbose=0, warm_start=False)), ('rf', RandomFore...,\n",
       "            oob_score=False, random_state=1, verbose=0, warm_start=False)), ('gnb', GaussianNB())],\n",
       "         voting='soft', weights=[1, 1, 1])"
      ]
     },
     "execution_count": 134,
     "metadata": {},
     "output_type": "execute_result"
    }
   ],
   "source": [
    "ensemble.fit(X1, y1)"
   ]
  },
  {
   "cell_type": "markdown",
   "metadata": {},
   "source": [
    "# -----------------------------------------------------"
   ]
  },
  {
   "cell_type": "markdown",
   "metadata": {
    "collapsed": true
   },
   "source": [
    "## 최종 주어진 데이터셋으로 예측"
   ]
  },
  {
   "cell_type": "code",
   "execution_count": 135,
   "metadata": {
    "collapsed": false
   },
   "outputs": [
    {
     "data": {
      "text/html": [
       "<div>\n",
       "<table border=\"1\" class=\"dataframe\">\n",
       "  <thead>\n",
       "    <tr style=\"text-align: right;\">\n",
       "      <th></th>\n",
       "      <th>ID</th>\n",
       "      <th>LIMIT_BAL</th>\n",
       "      <th>SEX</th>\n",
       "      <th>EDUCATION</th>\n",
       "      <th>MARRIAGE</th>\n",
       "      <th>AGE</th>\n",
       "      <th>PAY_0</th>\n",
       "      <th>PAY_2</th>\n",
       "      <th>PAY_3</th>\n",
       "      <th>PAY_4</th>\n",
       "      <th>...</th>\n",
       "      <th>BILL_AMT3</th>\n",
       "      <th>BILL_AMT4</th>\n",
       "      <th>BILL_AMT5</th>\n",
       "      <th>BILL_AMT6</th>\n",
       "      <th>PAY_AMT1</th>\n",
       "      <th>PAY_AMT2</th>\n",
       "      <th>PAY_AMT3</th>\n",
       "      <th>PAY_AMT4</th>\n",
       "      <th>PAY_AMT5</th>\n",
       "      <th>PAY_AMT6</th>\n",
       "    </tr>\n",
       "  </thead>\n",
       "  <tbody>\n",
       "    <tr>\n",
       "      <th>0</th>\n",
       "      <td>10</td>\n",
       "      <td>20000</td>\n",
       "      <td>1</td>\n",
       "      <td>3</td>\n",
       "      <td>2</td>\n",
       "      <td>35</td>\n",
       "      <td>-2</td>\n",
       "      <td>-2</td>\n",
       "      <td>-2</td>\n",
       "      <td>-2</td>\n",
       "      <td>...</td>\n",
       "      <td>0</td>\n",
       "      <td>0</td>\n",
       "      <td>13007</td>\n",
       "      <td>13912</td>\n",
       "      <td>0</td>\n",
       "      <td>0</td>\n",
       "      <td>0</td>\n",
       "      <td>13007</td>\n",
       "      <td>1122</td>\n",
       "      <td>0</td>\n",
       "    </tr>\n",
       "    <tr>\n",
       "      <th>1</th>\n",
       "      <td>12</td>\n",
       "      <td>260000</td>\n",
       "      <td>2</td>\n",
       "      <td>1</td>\n",
       "      <td>2</td>\n",
       "      <td>51</td>\n",
       "      <td>-1</td>\n",
       "      <td>-1</td>\n",
       "      <td>-1</td>\n",
       "      <td>-1</td>\n",
       "      <td>...</td>\n",
       "      <td>9966</td>\n",
       "      <td>8517</td>\n",
       "      <td>22287</td>\n",
       "      <td>13668</td>\n",
       "      <td>21818</td>\n",
       "      <td>9966</td>\n",
       "      <td>8583</td>\n",
       "      <td>22301</td>\n",
       "      <td>0</td>\n",
       "      <td>3640</td>\n",
       "    </tr>\n",
       "    <tr>\n",
       "      <th>2</th>\n",
       "      <td>14</td>\n",
       "      <td>70000</td>\n",
       "      <td>1</td>\n",
       "      <td>2</td>\n",
       "      <td>2</td>\n",
       "      <td>30</td>\n",
       "      <td>1</td>\n",
       "      <td>2</td>\n",
       "      <td>2</td>\n",
       "      <td>0</td>\n",
       "      <td>...</td>\n",
       "      <td>65701</td>\n",
       "      <td>66782</td>\n",
       "      <td>36137</td>\n",
       "      <td>36894</td>\n",
       "      <td>3200</td>\n",
       "      <td>0</td>\n",
       "      <td>3000</td>\n",
       "      <td>3000</td>\n",
       "      <td>1500</td>\n",
       "      <td>0</td>\n",
       "    </tr>\n",
       "    <tr>\n",
       "      <th>3</th>\n",
       "      <td>17</td>\n",
       "      <td>20000</td>\n",
       "      <td>1</td>\n",
       "      <td>1</td>\n",
       "      <td>2</td>\n",
       "      <td>24</td>\n",
       "      <td>0</td>\n",
       "      <td>0</td>\n",
       "      <td>2</td>\n",
       "      <td>2</td>\n",
       "      <td>...</td>\n",
       "      <td>17428</td>\n",
       "      <td>18338</td>\n",
       "      <td>17905</td>\n",
       "      <td>19104</td>\n",
       "      <td>3200</td>\n",
       "      <td>0</td>\n",
       "      <td>1500</td>\n",
       "      <td>0</td>\n",
       "      <td>1650</td>\n",
       "      <td>0</td>\n",
       "    </tr>\n",
       "    <tr>\n",
       "      <th>4</th>\n",
       "      <td>25</td>\n",
       "      <td>90000</td>\n",
       "      <td>1</td>\n",
       "      <td>1</td>\n",
       "      <td>2</td>\n",
       "      <td>23</td>\n",
       "      <td>0</td>\n",
       "      <td>0</td>\n",
       "      <td>0</td>\n",
       "      <td>-1</td>\n",
       "      <td>...</td>\n",
       "      <td>0</td>\n",
       "      <td>5398</td>\n",
       "      <td>6360</td>\n",
       "      <td>8292</td>\n",
       "      <td>5757</td>\n",
       "      <td>0</td>\n",
       "      <td>5398</td>\n",
       "      <td>1200</td>\n",
       "      <td>2045</td>\n",
       "      <td>2000</td>\n",
       "    </tr>\n",
       "  </tbody>\n",
       "</table>\n",
       "<p>5 rows × 24 columns</p>\n",
       "</div>"
      ],
      "text/plain": [
       "   ID  LIMIT_BAL  SEX  EDUCATION  MARRIAGE  AGE  PAY_0  PAY_2  PAY_3  PAY_4  \\\n",
       "0  10      20000    1          3         2   35     -2     -2     -2     -2   \n",
       "1  12     260000    2          1         2   51     -1     -1     -1     -1   \n",
       "2  14      70000    1          2         2   30      1      2      2      0   \n",
       "3  17      20000    1          1         2   24      0      0      2      2   \n",
       "4  25      90000    1          1         2   23      0      0      0     -1   \n",
       "\n",
       "     ...     BILL_AMT3  BILL_AMT4  BILL_AMT5  BILL_AMT6  PAY_AMT1  PAY_AMT2  \\\n",
       "0    ...             0          0      13007      13912         0         0   \n",
       "1    ...          9966       8517      22287      13668     21818      9966   \n",
       "2    ...         65701      66782      36137      36894      3200         0   \n",
       "3    ...         17428      18338      17905      19104      3200         0   \n",
       "4    ...             0       5398       6360       8292      5757         0   \n",
       "\n",
       "   PAY_AMT3  PAY_AMT4  PAY_AMT5  PAY_AMT6  \n",
       "0         0     13007      1122         0  \n",
       "1      8583     22301         0      3640  \n",
       "2      3000      3000      1500         0  \n",
       "3      1500         0      1650         0  \n",
       "4      5398      1200      2045      2000  \n",
       "\n",
       "[5 rows x 24 columns]"
      ]
     },
     "execution_count": 135,
     "metadata": {},
     "output_type": "execute_result"
    }
   ],
   "source": [
    "data_test = pd.read_csv('Default_Clients_Test.csv')\n",
    "# data_test = data_test.rename(columns={ 'default payment next month' : 'default'})\n",
    "data_test.head()"
   ]
  },
  {
   "cell_type": "code",
   "execution_count": 136,
   "metadata": {
    "collapsed": false
   },
   "outputs": [],
   "source": [
    "#train data에 대해 적용한 feature engineering을 동일하게 적용\n",
    "##code here\n",
    "data_test['MARRIAGE_zero'] = data_test['MARRIAGE'].map(lambda x: 1 if x == 0 else 0)\n",
    "data_test['EDU_zero'] = data_test['EDUCATION'].map(lambda x: 1 if x == 0 else 0)\n",
    "data_test['PAY_AMT_sum'] = data_test['PAY_AMT6'] + data_test['PAY_AMT5'] + data_test['PAY_AMT4']\n",
    "\n",
    "data_test['PAY_0_SQUARE'] =data_test['PAY_0'].map(lambda x: x**2)\n",
    "data_test['PAY_2_SQUARE'] =data_test['PAY_2'].map(lambda x: x**2)\n",
    "data_test['PAY_3_SQUARE'] =data_test['PAY_3'].map(lambda x: x**2)\n",
    "data_test['PAY_4_SQUARE'] =data_test['PAY_4'].map(lambda x: x**2)\n",
    "data_test['PAY_5_SQUARE'] =data_test['PAY_5'].map(lambda x: x**2)\n",
    "data_test['PAY_6_SQUARE'] =data_test['PAY_6'].map(lambda x: x**2)\n",
    "\n",
    "data_test['PAY_AMT_sum_square'] =data_test['PAY_AMT_sum'].map(lambda x: x**2)\n",
    "\n",
    "df1 = data_test.drop('ID', axis = 1)\n",
    "df1 = pd.get_dummies(df1, columns=['SEX','EDUCATION','MARRIAGE'], drop_first = True)"
   ]
  },
  {
   "cell_type": "code",
   "execution_count": 137,
   "metadata": {
    "collapsed": true
   },
   "outputs": [],
   "source": [
    "X_test = np.array(df1)"
   ]
  },
  {
   "cell_type": "code",
   "execution_count": 138,
   "metadata": {
    "collapsed": false
   },
   "outputs": [
    {
     "data": {
      "text/plain": [
       "array([0, 0, 0, ..., 0, 0, 0])"
      ]
     },
     "execution_count": 138,
     "metadata": {},
     "output_type": "execute_result"
    }
   ],
   "source": [
    "ensemble.predict(X_test)"
   ]
  },
  {
   "cell_type": "markdown",
   "metadata": {},
   "source": [
    "## 파일 제출"
   ]
  },
  {
   "cell_type": "code",
   "execution_count": 139,
   "metadata": {
    "collapsed": true
   },
   "outputs": [],
   "source": [
    "df_result = DataFrame()\n",
    "df_result['ID'] = data_test['ID']\n",
    "df_result['Answer'] = ensemble.predict(X_test)"
   ]
  },
  {
   "cell_type": "code",
   "execution_count": 140,
   "metadata": {
    "collapsed": false
   },
   "outputs": [],
   "source": [
    "df_result.to_csv('김성철_제출.csv',index=False)"
   ]
  }
 ],
 "metadata": {
  "kernelspec": {
   "display_name": "Python 3",
   "language": "python",
   "name": "python3"
  },
  "language_info": {
   "codemirror_mode": {
    "name": "ipython",
    "version": 3
   },
   "file_extension": ".py",
   "mimetype": "text/x-python",
   "name": "python",
   "nbconvert_exporter": "python",
   "pygments_lexer": "ipython3",
   "version": "3.4.5"
  }
 },
 "nbformat": 4,
 "nbformat_minor": 0
}
