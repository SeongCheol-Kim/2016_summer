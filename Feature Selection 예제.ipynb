{
 "cells": [
  {
   "cell_type": "code",
   "execution_count": 1,
   "metadata": {
    "collapsed": false
   },
   "outputs": [],
   "source": [
    "from pandas import DataFrame\n",
    "import pandas as pd\n",
    "import numpy as np\n",
    "import matplotlib.pyplot as plt"
   ]
  },
  {
   "cell_type": "code",
   "execution_count": 61,
   "metadata": {
    "collapsed": false
   },
   "outputs": [],
   "source": [
    "data = pd.read_excel('ToyotaCorolla.xls', sheetname='data')"
   ]
  },
  {
   "cell_type": "code",
   "execution_count": 62,
   "metadata": {
    "collapsed": false
   },
   "outputs": [
    {
     "data": {
      "text/html": [
       "<div>\n",
       "<table border=\"1\" class=\"dataframe\">\n",
       "  <thead>\n",
       "    <tr style=\"text-align: right;\">\n",
       "      <th></th>\n",
       "      <th>Id</th>\n",
       "      <th>Model</th>\n",
       "      <th>Price</th>\n",
       "      <th>Age_08_04</th>\n",
       "      <th>Mfg_Month</th>\n",
       "      <th>Mfg_Year</th>\n",
       "      <th>KM</th>\n",
       "      <th>Fuel_Type</th>\n",
       "      <th>HP</th>\n",
       "      <th>Met_Color</th>\n",
       "      <th>...</th>\n",
       "      <th>Powered_Windows</th>\n",
       "      <th>Power_Steering</th>\n",
       "      <th>Radio</th>\n",
       "      <th>Mistlamps</th>\n",
       "      <th>Sport_Model</th>\n",
       "      <th>Backseat_Divider</th>\n",
       "      <th>Metallic_Rim</th>\n",
       "      <th>Radio_cassette</th>\n",
       "      <th>Parking_Assistant</th>\n",
       "      <th>Tow_Bar</th>\n",
       "    </tr>\n",
       "  </thead>\n",
       "  <tbody>\n",
       "    <tr>\n",
       "      <th>0</th>\n",
       "      <td>1</td>\n",
       "      <td>TOYOTA Corolla 2.0 D4D HATCHB TERRA 2/3-Doors</td>\n",
       "      <td>13500</td>\n",
       "      <td>23</td>\n",
       "      <td>10</td>\n",
       "      <td>2002</td>\n",
       "      <td>46986</td>\n",
       "      <td>Diesel</td>\n",
       "      <td>90</td>\n",
       "      <td>1</td>\n",
       "      <td>...</td>\n",
       "      <td>1</td>\n",
       "      <td>1</td>\n",
       "      <td>0</td>\n",
       "      <td>0</td>\n",
       "      <td>0</td>\n",
       "      <td>1</td>\n",
       "      <td>0</td>\n",
       "      <td>0</td>\n",
       "      <td>0</td>\n",
       "      <td>0</td>\n",
       "    </tr>\n",
       "    <tr>\n",
       "      <th>1</th>\n",
       "      <td>2</td>\n",
       "      <td>TOYOTA Corolla 2.0 D4D HATCHB TERRA 2/3-Doors</td>\n",
       "      <td>13750</td>\n",
       "      <td>23</td>\n",
       "      <td>10</td>\n",
       "      <td>2002</td>\n",
       "      <td>72937</td>\n",
       "      <td>Diesel</td>\n",
       "      <td>90</td>\n",
       "      <td>1</td>\n",
       "      <td>...</td>\n",
       "      <td>0</td>\n",
       "      <td>1</td>\n",
       "      <td>0</td>\n",
       "      <td>0</td>\n",
       "      <td>0</td>\n",
       "      <td>1</td>\n",
       "      <td>0</td>\n",
       "      <td>0</td>\n",
       "      <td>0</td>\n",
       "      <td>0</td>\n",
       "    </tr>\n",
       "    <tr>\n",
       "      <th>2</th>\n",
       "      <td>3</td>\n",
       "      <td>TOYOTA Corolla 2.0 D4D HATCHB TERRA 2/3-Doors</td>\n",
       "      <td>13950</td>\n",
       "      <td>24</td>\n",
       "      <td>9</td>\n",
       "      <td>2002</td>\n",
       "      <td>41711</td>\n",
       "      <td>Diesel</td>\n",
       "      <td>90</td>\n",
       "      <td>1</td>\n",
       "      <td>...</td>\n",
       "      <td>0</td>\n",
       "      <td>1</td>\n",
       "      <td>0</td>\n",
       "      <td>0</td>\n",
       "      <td>0</td>\n",
       "      <td>1</td>\n",
       "      <td>0</td>\n",
       "      <td>0</td>\n",
       "      <td>0</td>\n",
       "      <td>0</td>\n",
       "    </tr>\n",
       "    <tr>\n",
       "      <th>3</th>\n",
       "      <td>4</td>\n",
       "      <td>TOYOTA Corolla 2.0 D4D HATCHB TERRA 2/3-Doors</td>\n",
       "      <td>14950</td>\n",
       "      <td>26</td>\n",
       "      <td>7</td>\n",
       "      <td>2002</td>\n",
       "      <td>48000</td>\n",
       "      <td>Diesel</td>\n",
       "      <td>90</td>\n",
       "      <td>0</td>\n",
       "      <td>...</td>\n",
       "      <td>0</td>\n",
       "      <td>1</td>\n",
       "      <td>0</td>\n",
       "      <td>0</td>\n",
       "      <td>0</td>\n",
       "      <td>1</td>\n",
       "      <td>0</td>\n",
       "      <td>0</td>\n",
       "      <td>0</td>\n",
       "      <td>0</td>\n",
       "    </tr>\n",
       "    <tr>\n",
       "      <th>4</th>\n",
       "      <td>5</td>\n",
       "      <td>TOYOTA Corolla 2.0 D4D HATCHB SOL 2/3-Doors</td>\n",
       "      <td>13750</td>\n",
       "      <td>30</td>\n",
       "      <td>3</td>\n",
       "      <td>2002</td>\n",
       "      <td>38500</td>\n",
       "      <td>Diesel</td>\n",
       "      <td>90</td>\n",
       "      <td>0</td>\n",
       "      <td>...</td>\n",
       "      <td>1</td>\n",
       "      <td>1</td>\n",
       "      <td>0</td>\n",
       "      <td>1</td>\n",
       "      <td>0</td>\n",
       "      <td>1</td>\n",
       "      <td>0</td>\n",
       "      <td>0</td>\n",
       "      <td>0</td>\n",
       "      <td>0</td>\n",
       "    </tr>\n",
       "  </tbody>\n",
       "</table>\n",
       "<p>5 rows × 39 columns</p>\n",
       "</div>"
      ],
      "text/plain": [
       "   Id                                           Model  Price  Age_08_04  \\\n",
       "0   1   TOYOTA Corolla 2.0 D4D HATCHB TERRA 2/3-Doors  13500         23   \n",
       "1   2   TOYOTA Corolla 2.0 D4D HATCHB TERRA 2/3-Doors  13750         23   \n",
       "2   3   TOYOTA Corolla 2.0 D4D HATCHB TERRA 2/3-Doors  13950         24   \n",
       "3   4   TOYOTA Corolla 2.0 D4D HATCHB TERRA 2/3-Doors  14950         26   \n",
       "4   5     TOYOTA Corolla 2.0 D4D HATCHB SOL 2/3-Doors  13750         30   \n",
       "\n",
       "   Mfg_Month  Mfg_Year     KM Fuel_Type  HP  Met_Color   ...     \\\n",
       "0         10      2002  46986    Diesel  90          1   ...      \n",
       "1         10      2002  72937    Diesel  90          1   ...      \n",
       "2          9      2002  41711    Diesel  90          1   ...      \n",
       "3          7      2002  48000    Diesel  90          0   ...      \n",
       "4          3      2002  38500    Diesel  90          0   ...      \n",
       "\n",
       "  Powered_Windows  Power_Steering  Radio  Mistlamps  Sport_Model  \\\n",
       "0               1               1      0          0            0   \n",
       "1               0               1      0          0            0   \n",
       "2               0               1      0          0            0   \n",
       "3               0               1      0          0            0   \n",
       "4               1               1      0          1            0   \n",
       "\n",
       "   Backseat_Divider  Metallic_Rim  Radio_cassette  Parking_Assistant  Tow_Bar  \n",
       "0                 1             0               0                  0        0  \n",
       "1                 1             0               0                  0        0  \n",
       "2                 1             0               0                  0        0  \n",
       "3                 1             0               0                  0        0  \n",
       "4                 1             0               0                  0        0  \n",
       "\n",
       "[5 rows x 39 columns]"
      ]
     },
     "execution_count": 62,
     "metadata": {},
     "output_type": "execute_result"
    }
   ],
   "source": [
    "data.head()"
   ]
  },
  {
   "cell_type": "markdown",
   "metadata": {},
   "source": [
    "### 중고차 가격을 예측하는 linear regression 모델을 만들어 보자"
   ]
  },
  {
   "cell_type": "markdown",
   "metadata": {},
   "source": [
    "Price : Euro 기준 중고차 가격 <br>\n",
    "Age_08_04 : 2004년 8월 기준으로 개월수<br>\n",
    "KM : Kilometers<br>\n",
    "Fuel_Type : Petrol, Diesel, CNG<br>\n",
    "HP : HorsePower<br>\n",
    "Met_Color : Metalilic Color ?<br>\n",
    "Automatic : Automatic?<br>\n",
    "CC : Cylinder Volumn($cm^3$)<br>\n",
    "Doors : Num of doors<br>\n",
    "Quarterly_Tzx : Quarterly road tax in EUROs<br>\n",
    "Weight : 무게(km)\n",
    "\n",
    "등등등..\n"
   ]
  },
  {
   "cell_type": "code",
   "execution_count": 63,
   "metadata": {
    "collapsed": false
   },
   "outputs": [
    {
     "data": {
      "text/plain": [
       "(1436, 39)"
      ]
     },
     "execution_count": 63,
     "metadata": {},
     "output_type": "execute_result"
    }
   ],
   "source": [
    "data.shape"
   ]
  },
  {
   "cell_type": "code",
   "execution_count": 64,
   "metadata": {
    "collapsed": false
   },
   "outputs": [],
   "source": [
    "#불필요한 변수 제거\n",
    "df = data.drop(['Id','Model','Mfg_Month','Mfg_Year'],axis=1)"
   ]
  },
  {
   "cell_type": "code",
   "execution_count": 65,
   "metadata": {
    "collapsed": false
   },
   "outputs": [
    {
     "data": {
      "text/html": [
       "<div>\n",
       "<table border=\"1\" class=\"dataframe\">\n",
       "  <thead>\n",
       "    <tr style=\"text-align: right;\">\n",
       "      <th></th>\n",
       "      <th>Price</th>\n",
       "      <th>Age_08_04</th>\n",
       "      <th>KM</th>\n",
       "      <th>Fuel_Type</th>\n",
       "      <th>HP</th>\n",
       "      <th>Met_Color</th>\n",
       "      <th>Color</th>\n",
       "      <th>Automatic</th>\n",
       "      <th>CC</th>\n",
       "      <th>Doors</th>\n",
       "      <th>...</th>\n",
       "      <th>Powered_Windows</th>\n",
       "      <th>Power_Steering</th>\n",
       "      <th>Radio</th>\n",
       "      <th>Mistlamps</th>\n",
       "      <th>Sport_Model</th>\n",
       "      <th>Backseat_Divider</th>\n",
       "      <th>Metallic_Rim</th>\n",
       "      <th>Radio_cassette</th>\n",
       "      <th>Parking_Assistant</th>\n",
       "      <th>Tow_Bar</th>\n",
       "    </tr>\n",
       "  </thead>\n",
       "  <tbody>\n",
       "    <tr>\n",
       "      <th>0</th>\n",
       "      <td>13500</td>\n",
       "      <td>23</td>\n",
       "      <td>46986</td>\n",
       "      <td>Diesel</td>\n",
       "      <td>90</td>\n",
       "      <td>1</td>\n",
       "      <td>Blue</td>\n",
       "      <td>0</td>\n",
       "      <td>2000</td>\n",
       "      <td>3</td>\n",
       "      <td>...</td>\n",
       "      <td>1</td>\n",
       "      <td>1</td>\n",
       "      <td>0</td>\n",
       "      <td>0</td>\n",
       "      <td>0</td>\n",
       "      <td>1</td>\n",
       "      <td>0</td>\n",
       "      <td>0</td>\n",
       "      <td>0</td>\n",
       "      <td>0</td>\n",
       "    </tr>\n",
       "    <tr>\n",
       "      <th>1</th>\n",
       "      <td>13750</td>\n",
       "      <td>23</td>\n",
       "      <td>72937</td>\n",
       "      <td>Diesel</td>\n",
       "      <td>90</td>\n",
       "      <td>1</td>\n",
       "      <td>Silver</td>\n",
       "      <td>0</td>\n",
       "      <td>2000</td>\n",
       "      <td>3</td>\n",
       "      <td>...</td>\n",
       "      <td>0</td>\n",
       "      <td>1</td>\n",
       "      <td>0</td>\n",
       "      <td>0</td>\n",
       "      <td>0</td>\n",
       "      <td>1</td>\n",
       "      <td>0</td>\n",
       "      <td>0</td>\n",
       "      <td>0</td>\n",
       "      <td>0</td>\n",
       "    </tr>\n",
       "    <tr>\n",
       "      <th>2</th>\n",
       "      <td>13950</td>\n",
       "      <td>24</td>\n",
       "      <td>41711</td>\n",
       "      <td>Diesel</td>\n",
       "      <td>90</td>\n",
       "      <td>1</td>\n",
       "      <td>Blue</td>\n",
       "      <td>0</td>\n",
       "      <td>2000</td>\n",
       "      <td>3</td>\n",
       "      <td>...</td>\n",
       "      <td>0</td>\n",
       "      <td>1</td>\n",
       "      <td>0</td>\n",
       "      <td>0</td>\n",
       "      <td>0</td>\n",
       "      <td>1</td>\n",
       "      <td>0</td>\n",
       "      <td>0</td>\n",
       "      <td>0</td>\n",
       "      <td>0</td>\n",
       "    </tr>\n",
       "    <tr>\n",
       "      <th>3</th>\n",
       "      <td>14950</td>\n",
       "      <td>26</td>\n",
       "      <td>48000</td>\n",
       "      <td>Diesel</td>\n",
       "      <td>90</td>\n",
       "      <td>0</td>\n",
       "      <td>Black</td>\n",
       "      <td>0</td>\n",
       "      <td>2000</td>\n",
       "      <td>3</td>\n",
       "      <td>...</td>\n",
       "      <td>0</td>\n",
       "      <td>1</td>\n",
       "      <td>0</td>\n",
       "      <td>0</td>\n",
       "      <td>0</td>\n",
       "      <td>1</td>\n",
       "      <td>0</td>\n",
       "      <td>0</td>\n",
       "      <td>0</td>\n",
       "      <td>0</td>\n",
       "    </tr>\n",
       "    <tr>\n",
       "      <th>4</th>\n",
       "      <td>13750</td>\n",
       "      <td>30</td>\n",
       "      <td>38500</td>\n",
       "      <td>Diesel</td>\n",
       "      <td>90</td>\n",
       "      <td>0</td>\n",
       "      <td>Black</td>\n",
       "      <td>0</td>\n",
       "      <td>2000</td>\n",
       "      <td>3</td>\n",
       "      <td>...</td>\n",
       "      <td>1</td>\n",
       "      <td>1</td>\n",
       "      <td>0</td>\n",
       "      <td>1</td>\n",
       "      <td>0</td>\n",
       "      <td>1</td>\n",
       "      <td>0</td>\n",
       "      <td>0</td>\n",
       "      <td>0</td>\n",
       "      <td>0</td>\n",
       "    </tr>\n",
       "  </tbody>\n",
       "</table>\n",
       "<p>5 rows × 35 columns</p>\n",
       "</div>"
      ],
      "text/plain": [
       "   Price  Age_08_04     KM Fuel_Type  HP  Met_Color   Color  Automatic    CC  \\\n",
       "0  13500         23  46986    Diesel  90          1    Blue          0  2000   \n",
       "1  13750         23  72937    Diesel  90          1  Silver          0  2000   \n",
       "2  13950         24  41711    Diesel  90          1    Blue          0  2000   \n",
       "3  14950         26  48000    Diesel  90          0   Black          0  2000   \n",
       "4  13750         30  38500    Diesel  90          0   Black          0  2000   \n",
       "\n",
       "   Doors   ...     Powered_Windows  Power_Steering  Radio  Mistlamps  \\\n",
       "0      3   ...                   1               1      0          0   \n",
       "1      3   ...                   0               1      0          0   \n",
       "2      3   ...                   0               1      0          0   \n",
       "3      3   ...                   0               1      0          0   \n",
       "4      3   ...                   1               1      0          1   \n",
       "\n",
       "   Sport_Model  Backseat_Divider  Metallic_Rim  Radio_cassette  \\\n",
       "0            0                 1             0               0   \n",
       "1            0                 1             0               0   \n",
       "2            0                 1             0               0   \n",
       "3            0                 1             0               0   \n",
       "4            0                 1             0               0   \n",
       "\n",
       "   Parking_Assistant  Tow_Bar  \n",
       "0                  0        0  \n",
       "1                  0        0  \n",
       "2                  0        0  \n",
       "3                  0        0  \n",
       "4                  0        0  \n",
       "\n",
       "[5 rows x 35 columns]"
      ]
     },
     "execution_count": 65,
     "metadata": {},
     "output_type": "execute_result"
    }
   ],
   "source": [
    "df.head()"
   ]
  },
  {
   "cell_type": "code",
   "execution_count": 66,
   "metadata": {
    "collapsed": false
   },
   "outputs": [],
   "source": [
    "# dummy 변수\n",
    "df1 = pd.get_dummies(df, columns=['Fuel_Type','Color'], drop_first = True)"
   ]
  },
  {
   "cell_type": "markdown",
   "metadata": {},
   "source": [
    "#### 1) 일단 모든 변수를 다 사용한 경우 rmse 를 계산해 보자"
   ]
  },
  {
   "cell_type": "code",
   "execution_count": 67,
   "metadata": {
    "collapsed": false
   },
   "outputs": [],
   "source": [
    "X = np.array(df1.drop('Price', axis=1))\n",
    "y = np.array(df1['Price'])\n",
    "\n",
    "from sklearn.cross_validation import KFold\n",
    "from sklearn.linear_model import LinearRegression\n",
    "kf = KFold(df.shape[0], n_folds=10, random_state=42)\n",
    "\n",
    "rmse = []\n",
    "for train_idx, test_idx in kf:\n",
    "    X_train, X_test, y_train, y_test = X[train_idx], X[test_idx], y[train_idx], y[test_idx]\n",
    "    lr = LinearRegression()\n",
    "    lr.fit(X_train, y_train)\n",
    "    rmse.append(np.mean((lr.predict(X_test) - y_test)**2)**0.5)"
   ]
  },
  {
   "cell_type": "code",
   "execution_count": 68,
   "metadata": {
    "collapsed": false
   },
   "outputs": [
    {
     "data": {
      "text/plain": [
       "1455.1638641736731"
      ]
     },
     "execution_count": 68,
     "metadata": {},
     "output_type": "execute_result"
    }
   ],
   "source": [
    "np.mean(rmse)"
   ]
  },
  {
   "cell_type": "code",
   "execution_count": 69,
   "metadata": {
    "collapsed": false
   },
   "outputs": [
    {
     "data": {
      "text/plain": [
       "917.00542217873078"
      ]
     },
     "execution_count": 69,
     "metadata": {},
     "output_type": "execute_result"
    }
   ],
   "source": [
    "np.std(rmse)"
   ]
  },
  {
   "cell_type": "markdown",
   "metadata": {},
   "source": [
    "### 변수 선택하기"
   ]
  },
  {
   "cell_type": "markdown",
   "metadata": {},
   "source": [
    "##### 방법 1) chi2"
   ]
  },
  {
   "cell_type": "markdown",
   "metadata": {},
   "source": [
    "반드시 non-negative 한 변수들에 적용가능"
   ]
  },
  {
   "cell_type": "code",
   "execution_count": 70,
   "metadata": {
    "collapsed": true
   },
   "outputs": [],
   "source": [
    "X = df1.drop('Price', axis=1)\n",
    "y = df1['Price']"
   ]
  },
  {
   "cell_type": "code",
   "execution_count": 71,
   "metadata": {
    "collapsed": false
   },
   "outputs": [],
   "source": [
    "from sklearn.feature_selection import chi2\n",
    "chi2score, pval = chi2(X, y)"
   ]
  },
  {
   "cell_type": "code",
   "execution_count": 72,
   "metadata": {
    "collapsed": false
   },
   "outputs": [
    {
     "data": {
      "text/plain": [
       "array([  7.60645368e+03,   1.40159545e+07,   1.06161647e+03,\n",
       "         8.64954193e+01,   2.36823474e+02,   1.91922524e+04,\n",
       "         6.31200356e+01,   1.06164802e-29,   1.21518547e+00,\n",
       "         8.19543984e+03,   2.18526030e+03,   1.79463881e+02,\n",
       "         3.84144969e+01,   1.53149056e+03,   6.86421933e+01,\n",
       "         4.84965514e+00,   8.37236202e+01,   2.36366333e+02,\n",
       "         9.20647202e+02,   5.70534849e+02,   4.92825064e+02,\n",
       "         1.49113015e+02,   1.54281568e+02,   3.08541652e+00,\n",
       "         2.23290280e+02,   2.29965513e+02,   2.89582570e+02,\n",
       "         6.21582084e+01,   2.45773608e+02,   2.23932482e+02,\n",
       "         1.06792519e+02,   1.68264584e+02,   3.28914930e+02,\n",
       "         4.12681765e+01,   2.09235817e+02,   2.24866134e+02,\n",
       "         1.88136464e+02,   2.47593921e+02,   2.02555615e+02,\n",
       "         2.42490247e+02,   2.82389842e+01,   2.24653937e+02,\n",
       "         1.87677656e+02])"
      ]
     },
     "execution_count": 72,
     "metadata": {},
     "output_type": "execute_result"
    }
   ],
   "source": [
    "chi2score"
   ]
  },
  {
   "cell_type": "code",
   "execution_count": 73,
   "metadata": {
    "collapsed": false
   },
   "outputs": [],
   "source": [
    "chi2_df = DataFrame()\n",
    "chi2_df['attribute'] = df1.columns[1:]\n",
    "chi2_df['score'] = chi2score"
   ]
  },
  {
   "cell_type": "code",
   "execution_count": 74,
   "metadata": {
    "collapsed": false
   },
   "outputs": [
    {
     "data": {
      "text/html": [
       "<div>\n",
       "<table border=\"1\" class=\"dataframe\">\n",
       "  <thead>\n",
       "    <tr style=\"text-align: right;\">\n",
       "      <th></th>\n",
       "      <th>attribute</th>\n",
       "      <th>score</th>\n",
       "    </tr>\n",
       "  </thead>\n",
       "  <tbody>\n",
       "    <tr>\n",
       "      <th>1</th>\n",
       "      <td>KM</td>\n",
       "      <td>1.401595e+07</td>\n",
       "    </tr>\n",
       "    <tr>\n",
       "      <th>5</th>\n",
       "      <td>CC</td>\n",
       "      <td>1.919225e+04</td>\n",
       "    </tr>\n",
       "    <tr>\n",
       "      <th>9</th>\n",
       "      <td>Quarterly_Tax</td>\n",
       "      <td>8.195440e+03</td>\n",
       "    </tr>\n",
       "    <tr>\n",
       "      <th>0</th>\n",
       "      <td>Age_08_04</td>\n",
       "      <td>7.606454e+03</td>\n",
       "    </tr>\n",
       "    <tr>\n",
       "      <th>10</th>\n",
       "      <td>Weight</td>\n",
       "      <td>2.185260e+03</td>\n",
       "    </tr>\n",
       "    <tr>\n",
       "      <th>13</th>\n",
       "      <td>Guarantee_Period</td>\n",
       "      <td>1.531491e+03</td>\n",
       "    </tr>\n",
       "    <tr>\n",
       "      <th>2</th>\n",
       "      <td>HP</td>\n",
       "      <td>1.061616e+03</td>\n",
       "    </tr>\n",
       "    <tr>\n",
       "      <th>18</th>\n",
       "      <td>Automatic_airco</td>\n",
       "      <td>9.206472e+02</td>\n",
       "    </tr>\n",
       "    <tr>\n",
       "      <th>19</th>\n",
       "      <td>Boardcomputer</td>\n",
       "      <td>5.705348e+02</td>\n",
       "    </tr>\n",
       "    <tr>\n",
       "      <th>20</th>\n",
       "      <td>CD_Player</td>\n",
       "      <td>4.928251e+02</td>\n",
       "    </tr>\n",
       "    <tr>\n",
       "      <th>32</th>\n",
       "      <td>Fuel_Type_Diesel</td>\n",
       "      <td>3.289149e+02</td>\n",
       "    </tr>\n",
       "    <tr>\n",
       "      <th>26</th>\n",
       "      <td>Sport_Model</td>\n",
       "      <td>2.895826e+02</td>\n",
       "    </tr>\n",
       "    <tr>\n",
       "      <th>37</th>\n",
       "      <td>Color_Grey</td>\n",
       "      <td>2.475939e+02</td>\n",
       "    </tr>\n",
       "    <tr>\n",
       "      <th>28</th>\n",
       "      <td>Metallic_Rim</td>\n",
       "      <td>2.457736e+02</td>\n",
       "    </tr>\n",
       "    <tr>\n",
       "      <th>39</th>\n",
       "      <td>Color_Silver</td>\n",
       "      <td>2.424902e+02</td>\n",
       "    </tr>\n",
       "    <tr>\n",
       "      <th>4</th>\n",
       "      <td>Automatic</td>\n",
       "      <td>2.368235e+02</td>\n",
       "    </tr>\n",
       "    <tr>\n",
       "      <th>17</th>\n",
       "      <td>Airco</td>\n",
       "      <td>2.363663e+02</td>\n",
       "    </tr>\n",
       "    <tr>\n",
       "      <th>25</th>\n",
       "      <td>Mistlamps</td>\n",
       "      <td>2.299655e+02</td>\n",
       "    </tr>\n",
       "    <tr>\n",
       "      <th>35</th>\n",
       "      <td>Color_Blue</td>\n",
       "      <td>2.248661e+02</td>\n",
       "    </tr>\n",
       "    <tr>\n",
       "      <th>41</th>\n",
       "      <td>Color_White</td>\n",
       "      <td>2.246539e+02</td>\n",
       "    </tr>\n",
       "    <tr>\n",
       "      <th>29</th>\n",
       "      <td>Radio_cassette</td>\n",
       "      <td>2.239325e+02</td>\n",
       "    </tr>\n",
       "    <tr>\n",
       "      <th>24</th>\n",
       "      <td>Radio</td>\n",
       "      <td>2.232903e+02</td>\n",
       "    </tr>\n",
       "    <tr>\n",
       "      <th>34</th>\n",
       "      <td>Color_Black</td>\n",
       "      <td>2.092358e+02</td>\n",
       "    </tr>\n",
       "    <tr>\n",
       "      <th>38</th>\n",
       "      <td>Color_Red</td>\n",
       "      <td>2.025556e+02</td>\n",
       "    </tr>\n",
       "    <tr>\n",
       "      <th>36</th>\n",
       "      <td>Color_Green</td>\n",
       "      <td>1.881365e+02</td>\n",
       "    </tr>\n",
       "    <tr>\n",
       "      <th>42</th>\n",
       "      <td>Color_Yellow</td>\n",
       "      <td>1.876777e+02</td>\n",
       "    </tr>\n",
       "    <tr>\n",
       "      <th>11</th>\n",
       "      <td>Mfr_Guarantee</td>\n",
       "      <td>1.794639e+02</td>\n",
       "    </tr>\n",
       "    <tr>\n",
       "      <th>31</th>\n",
       "      <td>Tow_Bar</td>\n",
       "      <td>1.682646e+02</td>\n",
       "    </tr>\n",
       "    <tr>\n",
       "      <th>22</th>\n",
       "      <td>Powered_Windows</td>\n",
       "      <td>1.542816e+02</td>\n",
       "    </tr>\n",
       "    <tr>\n",
       "      <th>21</th>\n",
       "      <td>Central_Lock</td>\n",
       "      <td>1.491130e+02</td>\n",
       "    </tr>\n",
       "    <tr>\n",
       "      <th>30</th>\n",
       "      <td>Parking_Assistant</td>\n",
       "      <td>1.067925e+02</td>\n",
       "    </tr>\n",
       "    <tr>\n",
       "      <th>3</th>\n",
       "      <td>Met_Color</td>\n",
       "      <td>8.649542e+01</td>\n",
       "    </tr>\n",
       "    <tr>\n",
       "      <th>16</th>\n",
       "      <td>Airbag_2</td>\n",
       "      <td>8.372362e+01</td>\n",
       "    </tr>\n",
       "    <tr>\n",
       "      <th>14</th>\n",
       "      <td>ABS</td>\n",
       "      <td>6.864219e+01</td>\n",
       "    </tr>\n",
       "    <tr>\n",
       "      <th>6</th>\n",
       "      <td>Doors</td>\n",
       "      <td>6.312004e+01</td>\n",
       "    </tr>\n",
       "    <tr>\n",
       "      <th>27</th>\n",
       "      <td>Backseat_Divider</td>\n",
       "      <td>6.215821e+01</td>\n",
       "    </tr>\n",
       "    <tr>\n",
       "      <th>33</th>\n",
       "      <td>Fuel_Type_Petrol</td>\n",
       "      <td>4.126818e+01</td>\n",
       "    </tr>\n",
       "    <tr>\n",
       "      <th>12</th>\n",
       "      <td>BOVAG_Guarantee</td>\n",
       "      <td>3.841450e+01</td>\n",
       "    </tr>\n",
       "    <tr>\n",
       "      <th>40</th>\n",
       "      <td>Color_Violet</td>\n",
       "      <td>2.823898e+01</td>\n",
       "    </tr>\n",
       "    <tr>\n",
       "      <th>15</th>\n",
       "      <td>Airbag_1</td>\n",
       "      <td>4.849655e+00</td>\n",
       "    </tr>\n",
       "    <tr>\n",
       "      <th>23</th>\n",
       "      <td>Power_Steering</td>\n",
       "      <td>3.085417e+00</td>\n",
       "    </tr>\n",
       "    <tr>\n",
       "      <th>8</th>\n",
       "      <td>Gears</td>\n",
       "      <td>1.215185e+00</td>\n",
       "    </tr>\n",
       "    <tr>\n",
       "      <th>7</th>\n",
       "      <td>Cylinders</td>\n",
       "      <td>1.061648e-29</td>\n",
       "    </tr>\n",
       "  </tbody>\n",
       "</table>\n",
       "</div>"
      ],
      "text/plain": [
       "            attribute         score\n",
       "1                  KM  1.401595e+07\n",
       "5                  CC  1.919225e+04\n",
       "9       Quarterly_Tax  8.195440e+03\n",
       "0           Age_08_04  7.606454e+03\n",
       "10             Weight  2.185260e+03\n",
       "13   Guarantee_Period  1.531491e+03\n",
       "2                  HP  1.061616e+03\n",
       "18    Automatic_airco  9.206472e+02\n",
       "19      Boardcomputer  5.705348e+02\n",
       "20          CD_Player  4.928251e+02\n",
       "32   Fuel_Type_Diesel  3.289149e+02\n",
       "26        Sport_Model  2.895826e+02\n",
       "37         Color_Grey  2.475939e+02\n",
       "28       Metallic_Rim  2.457736e+02\n",
       "39       Color_Silver  2.424902e+02\n",
       "4           Automatic  2.368235e+02\n",
       "17              Airco  2.363663e+02\n",
       "25          Mistlamps  2.299655e+02\n",
       "35         Color_Blue  2.248661e+02\n",
       "41        Color_White  2.246539e+02\n",
       "29     Radio_cassette  2.239325e+02\n",
       "24              Radio  2.232903e+02\n",
       "34        Color_Black  2.092358e+02\n",
       "38          Color_Red  2.025556e+02\n",
       "36        Color_Green  1.881365e+02\n",
       "42       Color_Yellow  1.876777e+02\n",
       "11      Mfr_Guarantee  1.794639e+02\n",
       "31            Tow_Bar  1.682646e+02\n",
       "22    Powered_Windows  1.542816e+02\n",
       "21       Central_Lock  1.491130e+02\n",
       "30  Parking_Assistant  1.067925e+02\n",
       "3           Met_Color  8.649542e+01\n",
       "16           Airbag_2  8.372362e+01\n",
       "14                ABS  6.864219e+01\n",
       "6               Doors  6.312004e+01\n",
       "27   Backseat_Divider  6.215821e+01\n",
       "33   Fuel_Type_Petrol  4.126818e+01\n",
       "12    BOVAG_Guarantee  3.841450e+01\n",
       "40       Color_Violet  2.823898e+01\n",
       "15           Airbag_1  4.849655e+00\n",
       "23     Power_Steering  3.085417e+00\n",
       "8               Gears  1.215185e+00\n",
       "7           Cylinders  1.061648e-29"
      ]
     },
     "execution_count": 74,
     "metadata": {},
     "output_type": "execute_result"
    }
   ],
   "source": [
    "chi2_df.sort_values('score', ascending=False)"
   ]
  },
  {
   "cell_type": "code",
   "execution_count": 75,
   "metadata": {
    "collapsed": false
   },
   "outputs": [],
   "source": [
    "top_chi2_features = chi2_df.sort_values('score', ascending=False)['attribute'][:20]"
   ]
  },
  {
   "cell_type": "markdown",
   "metadata": {},
   "source": [
    "##### Recursive feature elimination"
   ]
  },
  {
   "cell_type": "markdown",
   "metadata": {},
   "source": [
    "전체 변수를 활용하여 Linear model을 돌리고 <br>\n",
    "그 weight 값이 작은 것부터 하나씩 제거하는 방법"
   ]
  },
  {
   "cell_type": "code",
   "execution_count": 76,
   "metadata": {
    "collapsed": true
   },
   "outputs": [],
   "source": [
    "from sklearn.feature_selection import RFE"
   ]
  },
  {
   "cell_type": "code",
   "execution_count": 77,
   "metadata": {
    "collapsed": false
   },
   "outputs": [
    {
     "data": {
      "text/plain": [
       "RFE(estimator=LinearRegression(copy_X=True, fit_intercept=True, n_jobs=1, normalize=False),\n",
       "  estimator_params=None, n_features_to_select=20, step=1, verbose=0)"
      ]
     },
     "execution_count": 77,
     "metadata": {},
     "output_type": "execute_result"
    }
   ],
   "source": [
    "lr = LinearRegression()\n",
    "lr.fit(X, y)\n",
    "rfe = RFE(estimator=lr, \n",
    "          n_features_to_select=20, #종료 조건\n",
    "          step=1) #각 단계마다 몇개씩 변수를 제거할 것인지\n",
    "rfe.fit(X, y)"
   ]
  },
  {
   "cell_type": "code",
   "execution_count": 78,
   "metadata": {
    "collapsed": false
   },
   "outputs": [
    {
     "data": {
      "text/plain": [
       "array([10, 23, 18,  4,  1, 22,  2, 24,  1, 19, 21,  1,  1, 14,  1, 11,  1,\n",
       "        1,  1,  1,  1, 13,  1, 12,  1, 20,  1, 16,  5,  1,  1, 17,  1,  1,\n",
       "        6,  7,  9,  1,  8,  1,  3,  1, 15])"
      ]
     },
     "execution_count": 78,
     "metadata": {},
     "output_type": "execute_result"
    }
   ],
   "source": [
    "rfe.support_ #선택된 attribute\n",
    "rfe.ranking_ #ranking : 선택된 건 모두 1"
   ]
  },
  {
   "cell_type": "code",
   "execution_count": 79,
   "metadata": {
    "collapsed": false
   },
   "outputs": [],
   "source": [
    "top_RFE_features = X.columns[rfe.support_]"
   ]
  },
  {
   "cell_type": "markdown",
   "metadata": {},
   "source": [
    "##### Feature Selection with Model"
   ]
  },
  {
   "cell_type": "markdown",
   "metadata": {},
   "source": [
    "Lasso (L1 - norm)"
   ]
  },
  {
   "cell_type": "code",
   "execution_count": 80,
   "metadata": {
    "collapsed": false
   },
   "outputs": [
    {
     "name": "stdout",
     "output_type": "stream",
     "text": [
      "."
     ]
    },
    {
     "data": {
      "image/png": "[encoded data removed]",
      "text/plain": [
       "<matplotlib.figure.Figure at 0x7f80cc989860>"
      ]
     },
     "metadata": {},
     "output_type": "display_data"
    }
   ],
   "source": [
    "%matplotlib inline\n",
    "from sklearn import linear_model\n",
    "alphas, _, coefs = linear_model.lars_path(np.array(X), np.array(y), method='lasso', verbose=True)\n",
    "\n",
    "plt.figure(figsize=(18,10))\n",
    "xx = np.sum(np.abs(coefs.T), axis=1)\n",
    "xx /= xx[-1]\n",
    "\n",
    "plt.plot(xx, coefs.T)\n",
    "ymin, ymax = plt.ylim()\n",
    "plt.vlines(xx, ymin, ymax, linestyle='dashed')\n",
    "plt.xlabel('|coef| / max|coef|')\n",
    "plt.ylabel('Coefficients')\n",
    "plt.title('LASSO Path')\n",
    "plt.axis('tight')\n",
    "plt.show()"
   ]
  },
  {
   "cell_type": "code",
   "execution_count": 81,
   "metadata": {
    "collapsed": false
   },
   "outputs": [
    {
     "data": {
      "text/plain": [
       "Lasso(alpha=20, copy_X=True, fit_intercept=True, max_iter=1000,\n",
       "   normalize=False, positive=False, precompute=False, random_state=None,\n",
       "   selection='cyclic', tol=0.0001, warm_start=False)"
      ]
     },
     "execution_count": 81,
     "metadata": {},
     "output_type": "execute_result"
    }
   ],
   "source": [
    "clf = linear_model.Lasso(alpha=20)\n",
    "clf.fit(np.array(X), np.array(y))"
   ]
  },
  {
   "cell_type": "code",
   "execution_count": 82,
   "metadata": {
    "collapsed": false
   },
   "outputs": [
    {
     "data": {
      "text/plain": [
       "20"
      ]
     },
     "execution_count": 82,
     "metadata": {},
     "output_type": "execute_result"
    }
   ],
   "source": [
    "np.sum(clf.coef_ != 0)"
   ]
  },
  {
   "cell_type": "code",
   "execution_count": 83,
   "metadata": {
    "collapsed": true
   },
   "outputs": [],
   "source": [
    "top_lasso_features = X.columns[clf.coef_ != 0]"
   ]
  },
  {
   "cell_type": "markdown",
   "metadata": {},
   "source": [
    "##### Tree based Feature Selection"
   ]
  },
  {
   "cell_type": "markdown",
   "metadata": {},
   "source": [
    "Decision Tree / Random Forest"
   ]
  },
  {
   "cell_type": "code",
   "execution_count": 84,
   "metadata": {
    "collapsed": false
   },
   "outputs": [
    {
     "data": {
      "text/plain": [
       "array([ 0.12361479,  0.1222717 ,  0.03092874,  0.03285201,  0.01020341,\n",
       "        0.02634236,  0.04363268,  0.        ,  0.00371827,  0.03226721,\n",
       "        0.06707997,  0.041862  ,  0.01581529,  0.01284175,  0.01249568,\n",
       "        0.00409206,  0.01486235,  0.01808214,  0.00560805,  0.01212986,\n",
       "        0.01647351,  0.02283252,  0.02214395,  0.0031139 ,  0.01388352,\n",
       "        0.01597317,  0.0239504 ,  0.01677519,  0.02200498,  0.01505469,\n",
       "        0.00072461,  0.03308547,  0.00556539,  0.00628581,  0.02308508,\n",
       "        0.03004296,  0.0219871 ,  0.02598012,  0.02841313,  0.0162312 ,\n",
       "        0.00036436,  0.00454198,  0.00078666])"
      ]
     },
     "execution_count": 84,
     "metadata": {},
     "output_type": "execute_result"
    }
   ],
   "source": [
    "from sklearn.ensemble import ExtraTreesClassifier\n",
    "from sklearn.feature_selection import SelectFromModel\n",
    "clf = ExtraTreesClassifier()\n",
    "clf = clf.fit(X, y)\n",
    "clf.feature_importances_  "
   ]
  },
  {
   "cell_type": "code",
   "execution_count": 85,
   "metadata": {
    "collapsed": true
   },
   "outputs": [],
   "source": [
    "tree_features_df = DataFrame()\n",
    "tree_features_df['attribute'] = df1.columns[1:]\n",
    "tree_features_df['score'] = clf.feature_importances_  "
   ]
  },
  {
   "cell_type": "code",
   "execution_count": 86,
   "metadata": {
    "collapsed": false,
    "scrolled": true
   },
   "outputs": [
    {
     "data": {
      "text/html": [
       "<div>\n",
       "<table border=\"1\" class=\"dataframe\">\n",
       "  <thead>\n",
       "    <tr style=\"text-align: right;\">\n",
       "      <th></th>\n",
       "      <th>attribute</th>\n",
       "      <th>score</th>\n",
       "    </tr>\n",
       "  </thead>\n",
       "  <tbody>\n",
       "    <tr>\n",
       "      <th>0</th>\n",
       "      <td>Age_08_04</td>\n",
       "      <td>0.123615</td>\n",
       "    </tr>\n",
       "    <tr>\n",
       "      <th>1</th>\n",
       "      <td>KM</td>\n",
       "      <td>0.122272</td>\n",
       "    </tr>\n",
       "    <tr>\n",
       "      <th>10</th>\n",
       "      <td>Weight</td>\n",
       "      <td>0.067080</td>\n",
       "    </tr>\n",
       "    <tr>\n",
       "      <th>6</th>\n",
       "      <td>Doors</td>\n",
       "      <td>0.043633</td>\n",
       "    </tr>\n",
       "    <tr>\n",
       "      <th>11</th>\n",
       "      <td>Mfr_Guarantee</td>\n",
       "      <td>0.041862</td>\n",
       "    </tr>\n",
       "    <tr>\n",
       "      <th>31</th>\n",
       "      <td>Tow_Bar</td>\n",
       "      <td>0.033085</td>\n",
       "    </tr>\n",
       "    <tr>\n",
       "      <th>3</th>\n",
       "      <td>Met_Color</td>\n",
       "      <td>0.032852</td>\n",
       "    </tr>\n",
       "    <tr>\n",
       "      <th>9</th>\n",
       "      <td>Quarterly_Tax</td>\n",
       "      <td>0.032267</td>\n",
       "    </tr>\n",
       "    <tr>\n",
       "      <th>2</th>\n",
       "      <td>HP</td>\n",
       "      <td>0.030929</td>\n",
       "    </tr>\n",
       "    <tr>\n",
       "      <th>35</th>\n",
       "      <td>Color_Blue</td>\n",
       "      <td>0.030043</td>\n",
       "    </tr>\n",
       "    <tr>\n",
       "      <th>38</th>\n",
       "      <td>Color_Red</td>\n",
       "      <td>0.028413</td>\n",
       "    </tr>\n",
       "    <tr>\n",
       "      <th>5</th>\n",
       "      <td>CC</td>\n",
       "      <td>0.026342</td>\n",
       "    </tr>\n",
       "    <tr>\n",
       "      <th>37</th>\n",
       "      <td>Color_Grey</td>\n",
       "      <td>0.025980</td>\n",
       "    </tr>\n",
       "    <tr>\n",
       "      <th>26</th>\n",
       "      <td>Sport_Model</td>\n",
       "      <td>0.023950</td>\n",
       "    </tr>\n",
       "    <tr>\n",
       "      <th>34</th>\n",
       "      <td>Color_Black</td>\n",
       "      <td>0.023085</td>\n",
       "    </tr>\n",
       "    <tr>\n",
       "      <th>21</th>\n",
       "      <td>Central_Lock</td>\n",
       "      <td>0.022833</td>\n",
       "    </tr>\n",
       "    <tr>\n",
       "      <th>22</th>\n",
       "      <td>Powered_Windows</td>\n",
       "      <td>0.022144</td>\n",
       "    </tr>\n",
       "    <tr>\n",
       "      <th>28</th>\n",
       "      <td>Metallic_Rim</td>\n",
       "      <td>0.022005</td>\n",
       "    </tr>\n",
       "    <tr>\n",
       "      <th>36</th>\n",
       "      <td>Color_Green</td>\n",
       "      <td>0.021987</td>\n",
       "    </tr>\n",
       "    <tr>\n",
       "      <th>17</th>\n",
       "      <td>Airco</td>\n",
       "      <td>0.018082</td>\n",
       "    </tr>\n",
       "    <tr>\n",
       "      <th>27</th>\n",
       "      <td>Backseat_Divider</td>\n",
       "      <td>0.016775</td>\n",
       "    </tr>\n",
       "    <tr>\n",
       "      <th>20</th>\n",
       "      <td>CD_Player</td>\n",
       "      <td>0.016474</td>\n",
       "    </tr>\n",
       "    <tr>\n",
       "      <th>39</th>\n",
       "      <td>Color_Silver</td>\n",
       "      <td>0.016231</td>\n",
       "    </tr>\n",
       "    <tr>\n",
       "      <th>25</th>\n",
       "      <td>Mistlamps</td>\n",
       "      <td>0.015973</td>\n",
       "    </tr>\n",
       "    <tr>\n",
       "      <th>12</th>\n",
       "      <td>BOVAG_Guarantee</td>\n",
       "      <td>0.015815</td>\n",
       "    </tr>\n",
       "    <tr>\n",
       "      <th>29</th>\n",
       "      <td>Radio_cassette</td>\n",
       "      <td>0.015055</td>\n",
       "    </tr>\n",
       "    <tr>\n",
       "      <th>16</th>\n",
       "      <td>Airbag_2</td>\n",
       "      <td>0.014862</td>\n",
       "    </tr>\n",
       "    <tr>\n",
       "      <th>24</th>\n",
       "      <td>Radio</td>\n",
       "      <td>0.013884</td>\n",
       "    </tr>\n",
       "    <tr>\n",
       "      <th>13</th>\n",
       "      <td>Guarantee_Period</td>\n",
       "      <td>0.012842</td>\n",
       "    </tr>\n",
       "    <tr>\n",
       "      <th>14</th>\n",
       "      <td>ABS</td>\n",
       "      <td>0.012496</td>\n",
       "    </tr>\n",
       "    <tr>\n",
       "      <th>19</th>\n",
       "      <td>Boardcomputer</td>\n",
       "      <td>0.012130</td>\n",
       "    </tr>\n",
       "    <tr>\n",
       "      <th>4</th>\n",
       "      <td>Automatic</td>\n",
       "      <td>0.010203</td>\n",
       "    </tr>\n",
       "    <tr>\n",
       "      <th>33</th>\n",
       "      <td>Fuel_Type_Petrol</td>\n",
       "      <td>0.006286</td>\n",
       "    </tr>\n",
       "    <tr>\n",
       "      <th>18</th>\n",
       "      <td>Automatic_airco</td>\n",
       "      <td>0.005608</td>\n",
       "    </tr>\n",
       "    <tr>\n",
       "      <th>32</th>\n",
       "      <td>Fuel_Type_Diesel</td>\n",
       "      <td>0.005565</td>\n",
       "    </tr>\n",
       "    <tr>\n",
       "      <th>41</th>\n",
       "      <td>Color_White</td>\n",
       "      <td>0.004542</td>\n",
       "    </tr>\n",
       "    <tr>\n",
       "      <th>15</th>\n",
       "      <td>Airbag_1</td>\n",
       "      <td>0.004092</td>\n",
       "    </tr>\n",
       "    <tr>\n",
       "      <th>8</th>\n",
       "      <td>Gears</td>\n",
       "      <td>0.003718</td>\n",
       "    </tr>\n",
       "    <tr>\n",
       "      <th>23</th>\n",
       "      <td>Power_Steering</td>\n",
       "      <td>0.003114</td>\n",
       "    </tr>\n",
       "    <tr>\n",
       "      <th>42</th>\n",
       "      <td>Color_Yellow</td>\n",
       "      <td>0.000787</td>\n",
       "    </tr>\n",
       "    <tr>\n",
       "      <th>30</th>\n",
       "      <td>Parking_Assistant</td>\n",
       "      <td>0.000725</td>\n",
       "    </tr>\n",
       "    <tr>\n",
       "      <th>40</th>\n",
       "      <td>Color_Violet</td>\n",
       "      <td>0.000364</td>\n",
       "    </tr>\n",
       "    <tr>\n",
       "      <th>7</th>\n",
       "      <td>Cylinders</td>\n",
       "      <td>0.000000</td>\n",
       "    </tr>\n",
       "  </tbody>\n",
       "</table>\n",
       "</div>"
      ],
      "text/plain": [
       "            attribute     score\n",
       "0           Age_08_04  0.123615\n",
       "1                  KM  0.122272\n",
       "10             Weight  0.067080\n",
       "6               Doors  0.043633\n",
       "11      Mfr_Guarantee  0.041862\n",
       "31            Tow_Bar  0.033085\n",
       "3           Met_Color  0.032852\n",
       "9       Quarterly_Tax  0.032267\n",
       "2                  HP  0.030929\n",
       "35         Color_Blue  0.030043\n",
       "38          Color_Red  0.028413\n",
       "5                  CC  0.026342\n",
       "37         Color_Grey  0.025980\n",
       "26        Sport_Model  0.023950\n",
       "34        Color_Black  0.023085\n",
       "21       Central_Lock  0.022833\n",
       "22    Powered_Windows  0.022144\n",
       "28       Metallic_Rim  0.022005\n",
       "36        Color_Green  0.021987\n",
       "17              Airco  0.018082\n",
       "27   Backseat_Divider  0.016775\n",
       "20          CD_Player  0.016474\n",
       "39       Color_Silver  0.016231\n",
       "25          Mistlamps  0.015973\n",
       "12    BOVAG_Guarantee  0.015815\n",
       "29     Radio_cassette  0.015055\n",
       "16           Airbag_2  0.014862\n",
       "24              Radio  0.013884\n",
       "13   Guarantee_Period  0.012842\n",
       "14                ABS  0.012496\n",
       "19      Boardcomputer  0.012130\n",
       "4           Automatic  0.010203\n",
       "33   Fuel_Type_Petrol  0.006286\n",
       "18    Automatic_airco  0.005608\n",
       "32   Fuel_Type_Diesel  0.005565\n",
       "41        Color_White  0.004542\n",
       "15           Airbag_1  0.004092\n",
       "8               Gears  0.003718\n",
       "23     Power_Steering  0.003114\n",
       "42       Color_Yellow  0.000787\n",
       "30  Parking_Assistant  0.000725\n",
       "40       Color_Violet  0.000364\n",
       "7           Cylinders  0.000000"
      ]
     },
     "execution_count": 86,
     "metadata": {},
     "output_type": "execute_result"
    }
   ],
   "source": [
    "tree_features_df.sort_values('score', ascending=False)"
   ]
  },
  {
   "cell_type": "code",
   "execution_count": 87,
   "metadata": {
    "collapsed": true
   },
   "outputs": [],
   "source": [
    "top_tree_features = tree_features_df.sort_values('score', ascending=False)['attribute'][:20]"
   ]
  },
  {
   "cell_type": "code",
   "execution_count": 88,
   "metadata": {
    "collapsed": true
   },
   "outputs": [],
   "source": [
    "selectedFeatures = list(set(list(top_chi2_features) + list(top_RFE_features) + list(top_lasso_features) + list(top_tree_features)))"
   ]
  },
  {
   "cell_type": "code",
   "execution_count": 89,
   "metadata": {
    "collapsed": false
   },
   "outputs": [
    {
     "data": {
      "text/plain": [
       "['CC',\n",
       " 'Sport_Model',\n",
       " 'Doors',\n",
       " 'Radio',\n",
       " 'Automatic_airco',\n",
       " 'Color_White',\n",
       " 'Age_08_04',\n",
       " 'Guarantee_Period',\n",
       " 'Color_Grey',\n",
       " 'Metallic_Rim',\n",
       " 'Color_Black',\n",
       " 'Tow_Bar',\n",
       " 'Mistlamps',\n",
       " 'Radio_cassette',\n",
       " 'BOVAG_Guarantee',\n",
       " 'Parking_Assistant',\n",
       " 'Powered_Windows',\n",
       " 'CD_Player',\n",
       " 'Fuel_Type_Diesel',\n",
       " 'Automatic',\n",
       " 'KM',\n",
       " 'ABS',\n",
       " 'Central_Lock',\n",
       " 'Airbag_2',\n",
       " 'Quarterly_Tax',\n",
       " 'HP',\n",
       " 'Color_Green',\n",
       " 'Color_Blue',\n",
       " 'Boardcomputer',\n",
       " 'Gears',\n",
       " 'Color_Red',\n",
       " 'Weight',\n",
       " 'Airco',\n",
       " 'Mfr_Guarantee',\n",
       " 'Fuel_Type_Petrol',\n",
       " 'Met_Color',\n",
       " 'Color_Silver']"
      ]
     },
     "execution_count": 89,
     "metadata": {},
     "output_type": "execute_result"
    }
   ],
   "source": [
    "selectedFeatures"
   ]
  },
  {
   "cell_type": "code",
   "execution_count": 90,
   "metadata": {
    "collapsed": false
   },
   "outputs": [
    {
     "data": {
      "text/plain": [
       "37"
      ]
     },
     "execution_count": 90,
     "metadata": {},
     "output_type": "execute_result"
    }
   ],
   "source": [
    "len(selectedFeatures)"
   ]
  },
  {
   "cell_type": "code",
   "execution_count": null,
   "metadata": {
    "collapsed": true
   },
   "outputs": [],
   "source": [
    "#code\n",
    "#selectedFeatures 를 활용해 model의 성능이 나아졌는지 확인하시오"
   ]
  },
  {
   "cell_type": "code",
   "execution_count": 91,
   "metadata": {
    "collapsed": false
   },
   "outputs": [],
   "source": [
    "X = np.array(df1[selectedFeatures])\n",
    "y = np.array(df1['Price'])\n",
    "\n",
    "\n",
    "from sklearn.cross_validation import KFold\n",
    "from sklearn.linear_model import LinearRegression\n",
    "kf = KFold(df.shape[0], n_folds=10, random_state=42)\n",
    "\n",
    "rmse2 = []\n",
    "for train_idx, test_idx in kf:\n",
    "    X_train, X_test, y_train, y_test = X[train_idx], X[test_idx], y[train_idx], y[test_idx]\n",
    "    lr = LinearRegression()\n",
    "    lr.fit(X_train, y_train)\n",
    "    rmse2.append(np.mean((lr.predict(X_test) - y_test)**2)**0.5)"
   ]
  },
  {
   "cell_type": "code",
   "execution_count": 92,
   "metadata": {
    "collapsed": false
   },
   "outputs": [
    {
     "data": {
      "text/plain": [
       "1446.6710189212295"
      ]
     },
     "execution_count": 92,
     "metadata": {},
     "output_type": "execute_result"
    }
   ],
   "source": [
    "np.mean(rmse2)"
   ]
  },
  {
   "cell_type": "code",
   "execution_count": 93,
   "metadata": {
    "collapsed": false
   },
   "outputs": [
    {
     "data": {
      "text/plain": [
       "899.22147415283746"
      ]
     },
     "execution_count": 93,
     "metadata": {},
     "output_type": "execute_result"
    }
   ],
   "source": [
    "np.std(rmse2)"
   ]
  },
  {
   "cell_type": "code",
   "execution_count": null,
   "metadata": {
    "collapsed": true
   },
   "outputs": [],
   "source": []
  }
 ],
 "metadata": {
  "kernelspec": {
   "display_name": "Python 3",
   "language": "python",
   "name": "python3"
  },
  "language_info": {
   "codemirror_mode": {
    "name": "ipython",
    "version": 3
   },
   "file_extension": ".py",
   "mimetype": "text/x-python",
   "name": "python",
   "nbconvert_exporter": "python",
   "pygments_lexer": "ipython3",
   "version": "3.4.5"
  }
 },
 "nbformat": 4,
 "nbformat_minor": 0
}
